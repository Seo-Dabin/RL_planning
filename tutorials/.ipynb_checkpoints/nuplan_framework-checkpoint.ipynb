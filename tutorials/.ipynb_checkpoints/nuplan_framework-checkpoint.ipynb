{
 "cells": [
  {
   "cell_type": "markdown",
   "id": "fcb4d62d",
   "metadata": {},
   "source": [
    "![](https://www.nuplan.org/static/media/nuPlan_final.3fde7586.png)"
   ]
  },
  {
   "cell_type": "markdown",
   "id": "8d454a26",
   "metadata": {},
   "source": [
    "### Contents\n",
    "\n",
    "1. [Introduction to nuPlan](#introduction)\n",
    "2. [Training an ML planner](#training)\n",
    "3. [Simulating a planner](#simulation)\n",
    "4. [Visualizing metrics and scenarios](#dashboard)"
   ]
  },
  {
   "cell_type": "code",
   "execution_count": 1,
   "id": "844435a3",
   "metadata": {},
   "outputs": [],
   "source": [
    "from tutorials.utils.tutorial_utils import setup_notebook\n",
    "\n",
    "setup_notebook()"
   ]
  },
  {
   "cell_type": "markdown",
   "id": "a3422a43",
   "metadata": {},
   "source": [
    "# Introduction to nuPlan <a name=\"introduction\"></a>\n"
   ]
  },
  {
   "cell_type": "markdown",
   "id": "2b27eb25",
   "metadata": {},
   "source": [
    "Welcome to nuPlan! This notebook will explore the nuPlan simulation framework, training platform as well as the nuBoard metrics/scenarios visualization dashboard."
   ]
  },
  {
   "cell_type": "markdown",
   "id": "afead152",
   "metadata": {},
   "source": [
    "## What is nuPlan\n",
    "\n",
    "nuPlan is the world’s first closed-loop ML-based planning benchmark for autonomous driving.\n",
    "\n",
    "It provides a high quality dataset with 1500h of human driving data from 4 cities across the US and Asia with widely varying traffic patterns (Boston, Pittsburgh, Las Vegas and Singapore). In addition, it provides a closed-loop simulation framework with reactive agents, a training platform as well as a large set of both general and scenario-specific planning metrics.\n",
    "\n",
    "![](https://www.nuscenes.org/static/media/framework_steps.2d4642df.png)"
   ]
  },
  {
   "cell_type": "markdown",
   "id": "d4ece3a3",
   "metadata": {},
   "source": [
    "## Training & simulation framework\n",
    "\n",
    "The nuPlan training and simulation framework aims to:\n",
    "* create a simulation pipeline to evaluate a planner on large dataset with various scenarios\n",
    "* score planner performance with common and scenario-dependent metrics\n",
    "* compare planners based on measured metrics and provide intuitive visualizations\n",
    "* train planners with the provided framework to allow quick implementation and iteration\n",
    "* support closed-loop simulation and training\n",
    "\n",
    "<br />\n",
    "\n",
    "![](https://www.nuplan.org/static/media/planning_framework.ca3c2969.png)"
   ]
  },
  {
   "cell_type": "markdown",
   "id": "a1d23188",
   "metadata": {},
   "source": [
    "## Scenarios in nuPlan\n",
    "\n",
    "nuPlan aims to capture challenging yet representative scenarios from real-world encounters. This enables the benchmarking of planning systems both in expert imitation (open-loop) and reactive planning (closed-loop) settings.\n",
    "\n",
    "These scenarios includes:\n",
    "* highly interactive scenes with traffic participants (e.g. tailgating, high-velocity overtakes, double parked cars, jaywalking)\n",
    "* various ego behaviors (e.g. vehicle following, yielding, lane merging) and dynamics (e.g. mixed speed profiles, abrupt braking, speed bumps, high jerk maneuvers)\n",
    "* scene layouts of varied complexity (e.g. pudos, traffic/stop controlled intersections, unprotected turns) and temporary zones (e.g. construction areas)\n",
    "\n",
    "The dataset is automatically tagged with scenario labels based on certain primitive attributes.\n",
    "These scenario tags can then be used to extract representative metrics for the planner's evaluation.\n",
    "\n",
    "Example mined scenarios in nuPlan:\n",
    "\n",
    "| | | |\n",
    "| :-: | :-: | :-: |\n",
    "| Unprotected cross turn | Dense vehicle interactions | Jaywalker in front |\n",
    "| ![](https://www.nuscenes.org/static/media/unprotected-cross.51feef7e.webp) | ![](https://www.nuscenes.org/static/media/dense-interactions.16de47ec.webp) | ![](https://www.nuscenes.org/static/media/jaywalker.03083823.webp) |\n",
    "| Lane change | Ego at pickup/dropoff area | Ego following vehicle |\n",
    "| ![](https://www.nuscenes.org/static/media/lane-change.54bfca1c.webp) | ![](https://www.nuscenes.org/static/media/pickup-dropoff.4dd1c418.webp) | ![](https://www.nuscenes.org/static/media/following-vehicle.4cacd559.webp) |"
   ]
  },
  {
   "cell_type": "markdown",
   "id": "652ebd82",
   "metadata": {},
   "source": [
    "## Database\n",
    "\n",
    "Download a database for training/simulation from [here](https://nuplan.org/nuplan#download).\n",
    "\n",
    "| Database | Size | Duration | Num Logs | Cities | Num Scenarios | Sensor Data | Description |\n",
    "| :-- | :-- | :-- | :-- | :-- | :-- | :-- | :-- |\n",
    "| nuplan_v1.1_mini (recommended) | 13GB | 7h | 64 | Las Vegas, Boston, Pittsburgh, Singapore | 67 | N/A | The mini split used for prototyping and testing |\n",
    "| nuplan_v1.1 | 1.8TB | 1282h | 15910 | Las Vegas, Boston, Pittsburgh, Singapore | 73 | N/A | The full dataset for training and evaluation|"
   ]
  },
  {
   "cell_type": "markdown",
   "id": "2064bbc1",
   "metadata": {},
   "source": [
    "## Setup\n",
    "\n",
    "To be able to access all resources within this notebook, make sure Jupyter is launched at the root of this repo. The path of the notebook should be `/notebook/<repo_root>`."
   ]
  },
  {
   "cell_type": "code",
   "execution_count": 2,
   "id": "1dcf36e4",
   "metadata": {},
   "outputs": [
    {
     "name": "stderr",
     "output_type": "stream",
     "text": [
      "/tmp/ipykernel_8399/4180358289.py:2: DeprecationWarning: Importing display from IPython.core.display is deprecated since IPython 7.14, please import from IPython display\n",
      "  from IPython.core.display import display, HTML\n"
     ]
    },
    {
     "data": {
      "text/html": [
       "<style>.output_result { max-width:100% !important; }</style>"
      ],
      "text/plain": [
       "<IPython.core.display.HTML object>"
      ]
     },
     "metadata": {},
     "output_type": "display_data"
    },
    {
     "data": {
      "text/html": [
       "<style>.container { width:100% !important; }</style>"
      ],
      "text/plain": [
       "<IPython.core.display.HTML object>"
      ]
     },
     "metadata": {},
     "output_type": "display_data"
    }
   ],
   "source": [
    "# (Optional) Increase notebook width for all embedded cells to display properly\n",
    "from IPython.core.display import display, HTML\n",
    "display(HTML(\"<style>.output_result { max-width:100% !important; }</style>\"))\n",
    "display(HTML(\"<style>.container { width:100% !important; }</style>\"))"
   ]
  },
  {
   "cell_type": "code",
   "execution_count": 3,
   "id": "12e18a2e",
   "metadata": {},
   "outputs": [],
   "source": [
    "# Useful imports\n",
    "import os\n",
    "from pathlib import Path\n",
    "import tempfile\n",
    "\n",
    "import hydra"
   ]
  },
  {
   "cell_type": "markdown",
   "id": "288d8db0",
   "metadata": {},
   "source": [
    "# Training an ML planner <a name=\"training\"></a>"
   ]
  },
  {
   "cell_type": "markdown",
   "id": "15d80acc",
   "metadata": {},
   "source": [
    "## Imitation learning\n",
    "In the following section we will train an ML planning policy with the aim estimate the ego's future trajectory and control the vehicle.\n",
    "\n",
    "The policy is learned through imitation learning, a supervised learning approach in which - in the context of autonomous driving - the behavior of an expert human driver is used as a target signal to supervise the model.\n",
    "\n",
    "## Model features & targets\n",
    "A planning policy consumes a set of episodic observations and encodes them through a deep neural network to regress a future trajectory.\n",
    "\n",
    "The observations can be historic or present ego and agent poses as well as static/dynamic map information across different map layers.<br />\n",
    "These signals can be encoded through various representations, such as raster or vector format for the map signal, each with their pros and cons for each model flavor.\n",
    "\n",
    "Using these input features the model predicts a discretized future trajectory across a fixed time horizon.<br />\n",
    "The trajectory consists of a set of discrete future states (position, heading and velocity) sampled at fixed intervals which express the likelihood of the vehicle being at that state in the future.<br />\n",
    "For example, a predicted trajectory may consist of 10 future poses sampled at intervals of 0.5s across a 5s horizon.\n",
    "\n",
    "## Learning objectives\n",
    "The policy is trained to maximize a set of aggregated objectives such as imitation, collision avoidance, traffic rule violation etc.<br />\n",
    "Imitation is the core training objective which indicates how close the predicted trajectory is to the expert ground truth and penalizes model predictions that deviate in space and time from the demonstration."
   ]
  },
  {
   "cell_type": "markdown",
   "id": "d0800a03",
   "metadata": {},
   "source": [
    "## Training parameters"
   ]
  },
  {
   "cell_type": "markdown",
   "id": "602e5324",
   "metadata": {},
   "source": [
    "The following parameter categories define the training protocol which includes the model, metrics, objectives etc.\n",
    "\n",
    "A working example composition of these parameters can be found in the next section.\n",
    "\n",
    "---\n",
    "\n",
    "### ML models\n",
    "\n",
    "Change the training model with `model=X` where `X` is a config yaml defined in the table below. \n",
    "\n",
    "| Model | Description | Config |\n",
    "| --- | --- | --- |\n",
    "| Raster model (CNN) | Raster-based model that uses a CNN backbone to encode ego, agent and map information as raster layers<br />Any (pretrained) backbone from the TIMM library can be used (e.g. ResNet50, EfficientNetB3) | `raster_model` |\n",
    "| Vector model (LaneGCN) | Vector-based model that uses a series of MLPs to encode ego and agent signals, a lane graph to encode vector-map elements and a fusion network to capture lane & agent intra/inter-interactions through attention layers<br />Implementation of LaneGCN paper (\"Learning Lane Graph Representations for Motion Forecasting\") | `vector_model` |\n",
    "| Simple vector model | Toy vector-based model that consumes ego, agent and lane signals through a series of MLPs | `simple_vector_model` |\n",
    "\n",
    "<br />\n",
    "\n",
    "### Training objectives\n",
    "\n",
    "Change the training objectives with `objective=[X, ...]` where `X` is a config yaml defined in the table below. \n",
    "\n",
    "| Objective | Description | Config |\n",
    "| --- | --- | --- |\n",
    "| Imitation objective | Penalizes the predicted trajectory that deviates from the expert demonstration | `imitation_objective` |\n",
    "\n",
    "<br />\n",
    "\n",
    "### Training metrics\n",
    "\n",
    "Change the training objectives with `training_metric=[X, ...]` where `X` is a config yaml defined in the table below. \n",
    "\n",
    "| Metric | Description | Config |\n",
    "| --- | --- | --- |\n",
    "| Average displacement error | RMSE translation error across full predicted trajectory | `avg_displacement_error` |\n",
    "| Average heading error | RMSE heading error across full predicted trajectory | `avg_heading_error` |\n",
    "| Final displacement error | L2 error of predicted trajectory's final pose translation | `final_displacement_error` |\n",
    "| Final heading error | L2 error of predicted trajectory's final pose heading | `final_heading_error` |"
   ]
  },
  {
   "cell_type": "markdown",
   "id": "3ee66b84",
   "metadata": {},
   "source": [
    "## Prepare the training config"
   ]
  },
  {
   "cell_type": "code",
   "execution_count": 11,
   "id": "05860753",
   "metadata": {},
   "outputs": [],
   "source": [
    "# Location of path with all training configs\n",
    "CONFIG_PATH = '../nuplan/planning/script/config/training'\n",
    "CONFIG_NAME = 'default_training'\n",
    "\n",
    "# Create a temporary directory to store the cache and experiment artifacts\n",
    "SAVE_DIR = Path(tempfile.gettempdir()) / 'tutorial_nuplan_framework'  # optionally replace with persistent dir\n",
    "EXPERIMENT = 'training_raster_experiment'\n",
    "JOB_NAME = 'train_default_raster'\n",
    "LOG_DIR = SAVE_DIR / EXPERIMENT / JOB_NAME\n",
    "\n",
    "# Initialize configuration management system\n",
    "hydra.core.global_hydra.GlobalHydra.instance().clear()\n",
    "hydra.initialize(config_path=CONFIG_PATH)\n",
    "\n",
    "# Compose the configuration\n",
    "cfg = hydra.compose(config_name=CONFIG_NAME, overrides=[\n",
    "    f'group={str(SAVE_DIR)}',\n",
    "    f'cache.cache_path={str(SAVE_DIR)}/cache',\n",
    "    f'experiment_name={EXPERIMENT}',\n",
    "    f'job_name={JOB_NAME}',\n",
    "    'py_func=train',\n",
    "    '+training=training_raster_model',  # raster model that consumes ego, agents and map raster layers and regresses the ego's trajectory\n",
    "    'scenario_builder=nuplan_mini',  # use nuplan mini database\n",
    "    'scenario_filter.limit_total_scenarios=500',  # Choose 500 scenarios to train with\n",
    "    'lightning.trainer.params.accelerator=ddp_spawn',  # ddp is not allowed in interactive environment, using ddp_spawn instead - this can bottleneck the data pipeline, it is recommended to run training outside the notebook\n",
    "    'lightning.trainer.params.max_epochs=10',\n",
    "    'data_loader.params.batch_size=8',\n",
    "    'data_loader.params.num_workers=8',\n",
    "])"
   ]
  },
  {
   "cell_type": "markdown",
   "id": "162273a1",
   "metadata": {},
   "source": [
    "## Launch tensorboard for visualizing training artifacts"
   ]
  },
  {
   "cell_type": "code",
   "execution_count": 12,
   "id": "5acfc262",
   "metadata": {
    "scrolled": true
   },
   "outputs": [
    {
     "name": "stdout",
     "output_type": "stream",
     "text": [
      "The tensorboard extension is already loaded. To reload it, use:\n",
      "  %reload_ext tensorboard\n"
     ]
    },
    {
     "data": {
      "text/plain": [
       "Reusing TensorBoard on port 6006 (pid 8501), started 0:02:24 ago. (Use '!kill 8501' to kill it.)"
      ]
     },
     "metadata": {},
     "output_type": "display_data"
    },
    {
     "data": {
      "text/html": [
       "\n",
       "      <iframe id=\"tensorboard-frame-629f6fbed82c07cd\" width=\"100%\" height=\"800\" frameborder=\"0\">\n",
       "      </iframe>\n",
       "      <script>\n",
       "        (function() {\n",
       "          const frame = document.getElementById(\"tensorboard-frame-629f6fbed82c07cd\");\n",
       "          const url = new URL(\"/\", window.location);\n",
       "          const port = 6006;\n",
       "          if (port) {\n",
       "            url.port = port;\n",
       "          }\n",
       "          frame.src = url;\n",
       "        })();\n",
       "      </script>\n",
       "    "
      ],
      "text/plain": [
       "<IPython.core.display.HTML object>"
      ]
     },
     "metadata": {},
     "output_type": "display_data"
    }
   ],
   "source": [
    "%load_ext tensorboard\n",
    "%tensorboard --logdir {str(LOG_DIR)}"
   ]
  },
  {
   "cell_type": "markdown",
   "id": "ff5edf94",
   "metadata": {},
   "source": [
    "## Launch training (within the notebook)"
   ]
  },
  {
   "cell_type": "code",
   "execution_count": 13,
   "id": "62fb9600",
   "metadata": {},
   "outputs": [
    {
     "name": "stderr",
     "output_type": "stream",
     "text": [
      "Global seed set to 0\n"
     ]
    },
    {
     "name": "stdout",
     "output_type": "stream",
     "text": [
      "2024-03-17 15:20:20,827 INFO {/home/dabin/nuplan-devkit/nuplan/planning/script/builders/folder_builder.py:20}  Building experiment folders...\n",
      "2024-03-17 15:20:20,827 INFO {/home/dabin/nuplan-devkit/nuplan/planning/script/builders/folder_builder.py:22}  Experimental folder: /tmp/tutorial_nuplan_framework/training_raster_experiment/train_default_raster/2024.03.17.15.20.20\n",
      "2024-03-17 15:20:20,827 INFO {/home/dabin/nuplan-devkit/nuplan/planning/script/builders/worker_pool_builder.py:19}  Building WorkerPool...\n",
      "2024-03-17 15:20:20,828 INFO {/home/dabin/nuplan-devkit/nuplan/planning/utils/multithreading/worker_ray.py:78}  Starting ray local!\n"
     ]
    },
    {
     "name": "stderr",
     "output_type": "stream",
     "text": [
      "2024-03-17 15:20:22,394\tINFO worker.py:1724 -- Started a local Ray instance.\n"
     ]
    },
    {
     "name": "stdout",
     "output_type": "stream",
     "text": [
      "2024-03-17 15:20:22,945 INFO {/home/dabin/nuplan-devkit/nuplan/planning/utils/multithreading/worker_pool.py:101}  Worker: RayDistributed\n",
      "2024-03-17 15:20:22,945 INFO {/home/dabin/nuplan-devkit/nuplan/planning/utils/multithreading/worker_pool.py:102}  Number of nodes: 1\n",
      "Number of CPUs per node: 24\n",
      "Number of GPUs per node: 1\n",
      "Number of threads across all nodes: 24\n",
      "2024-03-17 15:20:22,945 INFO {/home/dabin/nuplan-devkit/nuplan/planning/script/builders/worker_pool_builder.py:27}  Building WorkerPool...DONE!\n",
      "2024-03-17 15:20:22,946 INFO {/home/dabin/nuplan-devkit/nuplan/planning/training/experiments/training.py:41}  Building training engine...\n",
      "2024-03-17 15:20:22,946 INFO {/home/dabin/nuplan-devkit/nuplan/planning/script/builders/model_builder.py:18}  Building TorchModuleWrapper...\n",
      "2024-03-17 15:20:23,175 INFO {/home/dabin/anaconda3/envs/nuplan/lib/python3.9/site-packages/timm/models/_builder.py:186}  Loading pretrained weights from Hugging Face hub (timm/resnet50.a1_in1k)\n",
      "2024-03-17 15:20:23,409 INFO {/home/dabin/anaconda3/envs/nuplan/lib/python3.9/site-packages/timm/models/_hub.py:180}  [timm/resnet50.a1_in1k] Safe alternative available for 'pytorch_model.bin' (as 'model.safetensors'). Loading weights using safetensors.\n",
      "2024-03-17 15:20:23,444 INFO {/home/dabin/anaconda3/envs/nuplan/lib/python3.9/site-packages/timm/models/_builder.py:210}  Converted input conv conv1 pretrained weights from 3 to 4 channel(s)\n",
      "2024-03-17 15:20:23,456 INFO {/home/dabin/nuplan-devkit/nuplan/planning/script/builders/model_builder.py:21}  Building TorchModuleWrapper...DONE!\n",
      "2024-03-17 15:20:23,457 INFO {/home/dabin/nuplan-devkit/nuplan/planning/script/builders/splitter_builder.py:18}  Building Splitter...\n",
      "2024-03-17 15:20:23,810 INFO {/home/dabin/nuplan-devkit/nuplan/planning/script/builders/splitter_builder.py:21}  Building Splitter...DONE!\n",
      "2024-03-17 15:20:23,811 INFO {/home/dabin/nuplan-devkit/nuplan/planning/script/builders/scenario_building_builder.py:18}  Building AbstractScenarioBuilder...\n",
      "2024-03-17 15:20:23,818 INFO {/home/dabin/nuplan-devkit/nuplan/planning/script/builders/scenario_building_builder.py:21}  Building AbstractScenarioBuilder...DONE!\n",
      "2024-03-17 15:20:23,818 INFO {/home/dabin/nuplan-devkit/nuplan/planning/script/builders/scenario_filter_builder.py:35}  Building ScenarioFilter...\n",
      "2024-03-17 15:20:23,818 INFO {/home/dabin/nuplan-devkit/nuplan/planning/script/builders/scenario_filter_builder.py:44}  Building ScenarioFilter...DONE!\n"
     ]
    },
    {
     "name": "stderr",
     "output_type": "stream",
     "text": [
      "Ray objects: 100%|██████████████████████████████████████████████████████| 24/24 [00:03<00:00,  7.94it/s]\n",
      "GPU available: True, used: True\n",
      "TPU available: False, using: 0 TPU cores\n",
      "Using native 16bit precision.\n",
      "Global seed set to 0\n",
      "initializing ddp: GLOBAL_RANK: 0, MEMBER: 1/1\n",
      "----------------------------------------------------------------------------------------------------\n",
      "distributed_backend=nccl\n",
      "All DDP processes registered. Starting ddp with 1 processes\n",
      "----------------------------------------------------------------------------------------------------\n",
      "\n"
     ]
    },
    {
     "name": "stdout",
     "output_type": "stream",
     "text": [
      "2024-03-17 15:20:26,936 INFO {/home/dabin/nuplan-devkit/nuplan/planning/script/builders/scenario_builder.py:171}  Extracted 500 scenarios for training\n",
      "2024-03-17 15:20:26,937 INFO {/home/dabin/nuplan-devkit/nuplan/planning/training/experiments/training.py:52}  Updating configs based on ddp_spawn strategy is currently not supported. Optimizer and LR Scheduler configs will not be updated.\n",
      "2024-03-17 15:20:26,939 INFO {/home/dabin/nuplan-devkit/nuplan/planning/script/builders/training_callback_builder.py:19}  Building callbacks...\n",
      "2024-03-17 15:20:26,943 INFO {/home/dabin/nuplan-devkit/nuplan/planning/script/builders/training_callback_builder.py:37}  Building callbacks...DONE!\n",
      "2024-03-17 15:20:26,945 INFO {/home/dabin/nuplan-devkit/nuplan/planning/script/run_training.py:62}  Starting training...\n",
      "2024-03-17 15:20:26,989 INFO {/home/dabin/anaconda3/envs/nuplan/lib/python3.9/site-packages/torch/distributed/distributed_c10d.py:217}  Added key: store_based_barrier_key:1 to store for rank: 0\n",
      "2024-03-17 15:20:26,989 INFO {/home/dabin/anaconda3/envs/nuplan/lib/python3.9/site-packages/torch/distributed/distributed_c10d.py:251}  Rank 0: Completed store-based barrier for key:store_based_barrier_key:1 with 1 nodes.\n"
     ]
    },
    {
     "name": "stderr",
     "output_type": "stream",
     "text": [
      "LOCAL_RANK: 0 - CUDA_VISIBLE_DEVICES: [0]\n",
      "\n",
      "  | Name  | Type        | Params\n",
      "--------------------------------------\n",
      "0 | model | RasterModel | 23.6 M\n",
      "--------------------------------------\n",
      "23.6 M    Trainable params\n",
      "0         Non-trainable params\n",
      "23.6 M    Total params\n",
      "94.438    Total estimated model params size (MB)\n"
     ]
    },
    {
     "name": "stdout",
     "output_type": "stream",
     "text": [
      "2024-03-17 15:20:29,169 INFO {/home/dabin/nuplan-devkit/nuplan/planning/training/data_loader/datamodule.py:47}  Number of samples in train set: 328\n",
      "2024-03-17 15:20:29,170 INFO {/home/dabin/nuplan-devkit/nuplan/planning/training/data_loader/datamodule.py:47}  Number of samples in validation set: 80\n",
      "2024-03-17 15:20:29,172 INFO {/home/dabin/nuplan-devkit/nuplan/planning/training/modeling/lightning_module_wrapper.py:196}  Using optimizer: torch.optim.Adam\n",
      "2024-03-17 15:20:29,172 INFO {/home/dabin/nuplan-devkit/nuplan/planning/script/builders/lr_scheduler_builder.py:52}  Not using any lr_schedulers.\n"
     ]
    },
    {
     "name": "stderr",
     "output_type": "stream",
     "text": [
      "/home/dabin/anaconda3/envs/nuplan/lib/python3.9/site-packages/pytorch_lightning/trainer/data_loading.py:73: UserWarning: num_workers>0, persistent_workers=False, and accelerator=ddp_spawn may result in data loading bottlenecks. Consider setting persistent_workers=True (this is a limitation of Python .spawn() and PyTorch)\n",
      "  rank_zero_warn(\n",
      "/home/dabin/anaconda3/envs/nuplan/lib/python3.9/site-packages/pytorch_lightning/callbacks/lr_monitor.py:97: RuntimeWarning: You are using `LearningRateMonitor` callback with models that have no learning rate schedulers. Please see documentation for `configure_optimizers` method.\n",
      "  rank_zero_warn(\n"
     ]
    },
    {
     "data": {
      "application/vnd.jupyter.widget-view+json": {
       "model_id": "6690983fee6b4fcfb80f01c13b58651e",
       "version_major": 2,
       "version_minor": 0
      },
      "text/plain": [
       "Training: 0it [00:00, ?it/s]"
      ]
     },
     "metadata": {},
     "output_type": "display_data"
    },
    {
     "name": "stdout",
     "output_type": "stream",
     "text": [
      "2024-03-17 15:20:31,620 INFO {/home/dabin/anaconda3/envs/nuplan/lib/python3.9/site-packages/torch/nn/parallel/distributed.py:874}  Reducer buckets have been rebuilt in this iteration.\n"
     ]
    },
    {
     "name": "stderr",
     "output_type": "stream",
     "text": [
      "/home/dabin/anaconda3/envs/nuplan/lib/python3.9/site-packages/pytorch_lightning/trainer/callback_hook.py:100: LightningDeprecationWarning: The signature of `Callback.on_train_epoch_end` has changed in v1.3. `outputs` parameter has been removed. Support for the old signature will be removed in v1.5\n",
      "  warning_cache.deprecation(\n"
     ]
    },
    {
     "data": {
      "application/vnd.jupyter.widget-view+json": {
       "model_id": "",
       "version_major": 2,
       "version_minor": 0
      },
      "text/plain": [
       "Validating: 0it [00:00, ?it/s]"
      ]
     },
     "metadata": {},
     "output_type": "display_data"
    },
    {
     "data": {
      "application/vnd.jupyter.widget-view+json": {
       "model_id": "",
       "version_major": 2,
       "version_minor": 0
      },
      "text/plain": [
       "Validating: 0it [00:00, ?it/s]"
      ]
     },
     "metadata": {},
     "output_type": "display_data"
    },
    {
     "data": {
      "application/vnd.jupyter.widget-view+json": {
       "model_id": "",
       "version_major": 2,
       "version_minor": 0
      },
      "text/plain": [
       "Validating: 0it [00:00, ?it/s]"
      ]
     },
     "metadata": {},
     "output_type": "display_data"
    },
    {
     "data": {
      "application/vnd.jupyter.widget-view+json": {
       "model_id": "",
       "version_major": 2,
       "version_minor": 0
      },
      "text/plain": [
       "Validating: 0it [00:00, ?it/s]"
      ]
     },
     "metadata": {},
     "output_type": "display_data"
    },
    {
     "data": {
      "application/vnd.jupyter.widget-view+json": {
       "model_id": "",
       "version_major": 2,
       "version_minor": 0
      },
      "text/plain": [
       "Validating: 0it [00:00, ?it/s]"
      ]
     },
     "metadata": {},
     "output_type": "display_data"
    },
    {
     "data": {
      "application/vnd.jupyter.widget-view+json": {
       "model_id": "",
       "version_major": 2,
       "version_minor": 0
      },
      "text/plain": [
       "Validating: 0it [00:00, ?it/s]"
      ]
     },
     "metadata": {},
     "output_type": "display_data"
    },
    {
     "data": {
      "application/vnd.jupyter.widget-view+json": {
       "model_id": "",
       "version_major": 2,
       "version_minor": 0
      },
      "text/plain": [
       "Validating: 0it [00:00, ?it/s]"
      ]
     },
     "metadata": {},
     "output_type": "display_data"
    },
    {
     "data": {
      "application/vnd.jupyter.widget-view+json": {
       "model_id": "",
       "version_major": 2,
       "version_minor": 0
      },
      "text/plain": [
       "Validating: 0it [00:00, ?it/s]"
      ]
     },
     "metadata": {},
     "output_type": "display_data"
    },
    {
     "data": {
      "application/vnd.jupyter.widget-view+json": {
       "model_id": "",
       "version_major": 2,
       "version_minor": 0
      },
      "text/plain": [
       "Validating: 0it [00:00, ?it/s]"
      ]
     },
     "metadata": {},
     "output_type": "display_data"
    },
    {
     "data": {
      "application/vnd.jupyter.widget-view+json": {
       "model_id": "",
       "version_major": 2,
       "version_minor": 0
      },
      "text/plain": [
       "Validating: 0it [00:00, ?it/s]"
      ]
     },
     "metadata": {},
     "output_type": "display_data"
    },
    {
     "data": {
      "text/plain": [
       "<nuplan.planning.training.experiments.training.TrainingEngine object at 0x7f05347246d0>"
      ]
     },
     "execution_count": 13,
     "metadata": {},
     "output_type": "execute_result"
    }
   ],
   "source": [
    "from nuplan.planning.script.run_training import main as main_train\n",
    "\n",
    "# Run the training loop, optionally inspect training artifacts through tensorboard (above cell)\n",
    "main_train(cfg)"
   ]
  },
  {
   "cell_type": "markdown",
   "id": "cd570621",
   "metadata": {},
   "source": [
    "## Launch training (command line - alternative)"
   ]
  },
  {
   "cell_type": "markdown",
   "id": "d6ad67e5",
   "metadata": {},
   "source": [
    "A training experiment with the above same parameters can be launched alternatively with:\n",
    "```\n",
    "$ python nuplan/planning/script/run_training.py \\\n",
    "    experiment_name=raster_experiment \\\n",
    "    py_func=train \\\n",
    "    +training=training_raster_model \\\n",
    "    scenario_builder=nuplan_mini \\\n",
    "    scenario_filter.limit_total_scenarios=500 \\\n",
    "    lightning.trainer.params.max_epochs=10 \\\n",
    "    data_loader.params.batch_size=8 \\\n",
    "    data_loader.params.num_workers=8\n",
    "```"
   ]
  },
  {
   "cell_type": "markdown",
   "id": "184dc002",
   "metadata": {},
   "source": [
    "# Simulating a planner <a name=\"simulation\"></a>"
   ]
  },
  {
   "cell_type": "markdown",
   "id": "49758620",
   "metadata": {},
   "source": [
    "## Open-loop simulation\n",
    "Open-loop simulation aims to evaluate the policy's capabilities to imitate the expert driver's behavior.<br />\n",
    "This is essentially done through log replay as the policy's predictions do not affect the state of the simulation.\n",
    "\n",
    "As the policy is not in full control of the vehicle, this type of simulation can only provide a high-level performance overview.\n",
    "\n",
    "## Closed-loop simulation\n",
    "Conversely, in closed-loop simulation the policy's actions alter the state of the simulation which tries to closely approximate the real-world system.\n",
    "\n",
    "The simulation's feedback loop enables a more in-depth evaluation of the policy as compounding errors can cause future observations to significantly diverge from the ground truth.<br />\n",
    "This is important in measuring distribution shifts introduced due to lack of variance in training examples through pure imitation learning.\n",
    "\n",
    "Closed-loop simulation is further divided into two categories:\n",
    "* ego closed-loop simulation with agents replayed from log (open-loop, non reactive)\n",
    "* ego closed-loop simulation with agents controlled by a rule-based or learned policy (closed-loop, reactive)\n",
    "\n",
    "## Measuring success\n",
    "Measuring the success of a planning task and comparing various planning policies is a complicated effort that involves defining metrics across different vertical dimensions and scenario categories.<br />\n",
    "These metrics include indicators such as vehicle dynamics, traffic rule violations, expert imitation, navigation success etc.<br />\n",
    "Overall, they aim to capture the policy's ability to control the autonomous vehicle safely yet efficiently without compromising the passenger's comfort."
   ]
  },
  {
   "cell_type": "markdown",
   "id": "04359006",
   "metadata": {},
   "source": [
    "## Simulation parameters"
   ]
  },
  {
   "cell_type": "markdown",
   "id": "ebef8382",
   "metadata": {},
   "source": [
    "### Planners\n",
    "\n",
    "Change the planner model with `planner=X` where `X` is a config yaml defined in the table below. \n",
    "\n",
    "| Planner | Description | Config |\n",
    "| --- | --- | --- |\n",
    "| Simple Planner | Naive planner that only plans a straight path | `simple_planner` |\n",
    "| ML Planner | Learning-based planner trained using the nuPlan training framework (see previous section) | `ml_planner` |"
   ]
  },
  {
   "cell_type": "markdown",
   "id": "db903632",
   "metadata": {},
   "source": [
    "## Prepare the simulation config"
   ]
  },
  {
   "cell_type": "code",
   "execution_count": 190,
   "id": "112d1965",
   "metadata": {},
   "outputs": [],
   "source": [
    "# Location of path with all simulation configs\n",
    "CONFIG_PATH = '../nuplan/planning/script/config/simulation'\n",
    "CONFIG_NAME = 'default_simulation'\n",
    "\n",
    "# Select the planner and simulation challenge\n",
    "# PLANNER = 'simple_planner'  # [simple_planner, ml_planner]\n",
    "PLANNER = 'ml_planner'  # [simple_planner, ml_planner]\n",
    "\n",
    "# CHALLENGE = 'open_loop_boxes'  # [open_loop_boxes, closed_loop_nonreactive_agents, closed_loop_reactive_agents]\n",
    "CHALLENGE = 'closed_loop_reactive_agents'  # [open_loop_boxes, closed_loop_nonreactive_agents, closed_loop_reactive_agents]\n",
    "\n",
    "DATASET_PARAMS = [\n",
    "    'scenario_builder=nuplan_mini',  # use nuplan mini database\n",
    "    'scenario_filter=all_scenarios',  # initially select all scenarios in the database\n",
    "    'scenario_filter.scenario_types=[near_multiple_vehicles, on_pickup_dropoff, starting_unprotected_cross_turn, high_magnitude_jerk]',  # select scenario types\n",
    "    'scenario_filter.num_scenarios_per_type=10',  # use 10 scenarios per scenario type\n",
    "]\n",
    "\n",
    "# Name of the experiment\n",
    "EXPERIMENT = 'simulation_simple_experiment'\n",
    "\n",
    "# Initialize configuration management system\n",
    "hydra.core.global_hydra.GlobalHydra.instance().clear()  # reinitialize hydra if already initialized\n",
    "hydra.initialize(config_path=CONFIG_PATH)\n",
    "\n",
    "# Compose the configuration\n",
    "cfg = hydra.compose(config_name=CONFIG_NAME, overrides=[\n",
    "    f'experiment_name={EXPERIMENT}',\n",
    "    f'group={SAVE_DIR}',\n",
    "    f'planner={PLANNER}',\n",
    "    f'+simulation={CHALLENGE}',\n",
    "    *DATASET_PARAMS,\n",
    "])"
   ]
  },
  {
   "cell_type": "code",
   "execution_count": 192,
   "id": "aecd1b75-325b-48c9-a3c5-e1477826c3f1",
   "metadata": {},
   "outputs": [
    {
     "data": {
      "text/plain": [
       "'urban_driver_open_loop_model'"
      ]
     },
     "execution_count": 192,
     "metadata": {},
     "output_type": "execute_result"
    }
   ],
   "source": [
    "(cfg.observation.model_config[0])"
   ]
  },
  {
   "cell_type": "code",
   "execution_count": 221,
   "id": "4d50b293-bd43-49af-90ee-28ebfd8967c1",
   "metadata": {},
   "outputs": [
    {
     "ename": "ModuleNotFoundError",
     "evalue": "No module named 'nuplan.planning.simulation.planner.abstract_observation'",
     "output_type": "error",
     "traceback": [
      "\u001b[0;31m---------------------------------------------------------------------------\u001b[0m",
      "\u001b[0;31mModuleNotFoundError\u001b[0m                       Traceback (most recent call last)",
      "Cell \u001b[0;32mIn[221], line 6\u001b[0m\n\u001b[1;32m      4\u001b[0m \u001b[38;5;28;01mfrom\u001b[39;00m \u001b[38;5;21;01mhydra\u001b[39;00m\u001b[38;5;21;01m.\u001b[39;00m\u001b[38;5;21;01mutils\u001b[39;00m \u001b[38;5;28;01mimport\u001b[39;00m instantiate\n\u001b[1;32m      5\u001b[0m \u001b[38;5;28;01mfrom\u001b[39;00m \u001b[38;5;21;01mnuplan\u001b[39;00m\u001b[38;5;21;01m.\u001b[39;00m\u001b[38;5;21;01mplanning\u001b[39;00m\u001b[38;5;21;01m.\u001b[39;00m\u001b[38;5;21;01msimulation\u001b[39;00m\u001b[38;5;21;01m.\u001b[39;00m\u001b[38;5;21;01mplanner\u001b[39;00m\u001b[38;5;21;01m.\u001b[39;00m\u001b[38;5;21;01mabstract_planner\u001b[39;00m \u001b[38;5;28;01mimport\u001b[39;00m AbstractPlanner\n\u001b[0;32m----> 6\u001b[0m \u001b[38;5;28;01mfrom\u001b[39;00m \u001b[38;5;21;01mnuplan\u001b[39;00m\u001b[38;5;21;01m.\u001b[39;00m\u001b[38;5;21;01mplanning\u001b[39;00m\u001b[38;5;21;01m.\u001b[39;00m\u001b[38;5;21;01msimulation\u001b[39;00m\u001b[38;5;21;01m.\u001b[39;00m\u001b[38;5;21;01mplanner\u001b[39;00m\u001b[38;5;21;01m.\u001b[39;00m\u001b[38;5;21;01mabstract_observation\u001b[39;00m \u001b[38;5;28;01mimport\u001b[39;00m AbstractObservation\n\u001b[1;32m      8\u001b[0m \u001b[38;5;66;03m# PLANNER = 'ml_planner'\u001b[39;00m\n\u001b[1;32m      9\u001b[0m PLANNER \u001b[38;5;241m=\u001b[39m \u001b[38;5;124m'\u001b[39m\u001b[38;5;124midm_planner\u001b[39m\u001b[38;5;124m'\u001b[39m\n",
      "\u001b[0;31mModuleNotFoundError\u001b[0m: No module named 'nuplan.planning.simulation.planner.abstract_observation'"
     ]
    }
   ],
   "source": [
    "from nuplan.planning.training.modeling.torch_module_wrapper import TorchModuleWrapper\n",
    "from nuplan.planning.script.builders.utils.utils_type import is_TorchModuleWrapper_config\n",
    "from nuplan.planning.script.builders.utils.utils_type import validate_type\n",
    "from hydra.utils import instantiate\n",
    "from nuplan.planning.simulation.planner.abstract_planner import AbstractPlanner\n",
    "from nuplan.planning.simulation.observation.abstract_observation import AbstractObservation\n",
    "\n",
    "# PLANNER = 'ml_planner'\n",
    "PLANNER = 'idm_planner'\n",
    "OBSERVATION = 'ego_centric_ml_agents_observation'\n",
    "\n",
    "dc = hydra.compose(config_name=CONFIG_NAME, overrides=[\n",
    "    f'experiment_name={EXPERIMENT}',\n",
    "    f'group={SAVE_DIR}',\n",
    "    f'planner={PLANNER}',\n",
    "    f'observation={OBSERVATION}',\n",
    "    f'+simulation={CHALLENGE}',\n",
    "    *DATASET_PARAMS,\n",
    "])\n",
    "\n",
    "observation_cfg = dc.observation\n",
    "print(\"is_TorchModuleWrapper_config? : \", is_TorchModuleWrapper_config(observation_cfg))\n",
    "print(\"model config : \", observation_cfg.model_config)\n",
    "print(\"type : \", type(observation_cfg.model_config))\n",
    "model = instantiate(observation_cfg.model_config, AbstractObservation)\n",
    "print(\"is torch module wrapper ? : \", validate_type(model, TorchModuleWrapper))\n"
   ]
  },
  {
   "cell_type": "code",
   "execution_count": 209,
   "id": "155c36d3-d03f-4922-a81a-c2b219bc16bc",
   "metadata": {},
   "outputs": [
    {
     "name": "stdout",
     "output_type": "stream",
     "text": [
      "config :  <class 'omegaconf.dictconfig.DictConfig'>\n",
      "config :  <class 'omegaconf.dictconfig.DictConfig'>\n",
      "2024-03-20 16:47:22,210 INFO {/home/dabin/nuplan-devkit/nuplan/planning/script/builders/model_builder.py:18}  Building TorchModuleWrapper...\n",
      "2024-03-20 16:47:22,210 INFO {/home/dabin/nuplan-devkit/nuplan/planning/script/builders/model_builder.py:18}  Building TorchModuleWrapper...\n"
     ]
    },
    {
     "ename": "TypeError",
     "evalue": "Error instantiating 'nuplan.planning.simulation.observation.ego_centric_ml_agents.EgoCentricMLAgents' : __init__() missing 2 required positional arguments: 'model' and 'scenario'",
     "output_type": "error",
     "traceback": [
      "\u001b[0;31m---------------------------------------------------------------------------\u001b[0m",
      "\u001b[0;31mTypeError\u001b[0m                                 Traceback (most recent call last)",
      "File \u001b[0;32m~/anaconda3/envs/nuplan/lib/python3.9/site-packages/hydra/_internal/instantiate/_instantiate2.py:62\u001b[0m, in \u001b[0;36m_call_target\u001b[0;34m(target, *args, **kwargs)\u001b[0m\n\u001b[1;32m     60\u001b[0m             v\u001b[38;5;241m.\u001b[39m_set_parent(\u001b[38;5;28;01mNone\u001b[39;00m)\n\u001b[0;32m---> 62\u001b[0m     \u001b[38;5;28;01mreturn\u001b[39;00m \u001b[43mtarget\u001b[49m\u001b[43m(\u001b[49m\u001b[38;5;241;43m*\u001b[39;49m\u001b[43margs\u001b[49m\u001b[43m,\u001b[49m\u001b[43m \u001b[49m\u001b[38;5;241;43m*\u001b[39;49m\u001b[38;5;241;43m*\u001b[39;49m\u001b[43mkwargs\u001b[49m\u001b[43m)\u001b[49m\n\u001b[1;32m     63\u001b[0m \u001b[38;5;28;01mexcept\u001b[39;00m \u001b[38;5;167;01mException\u001b[39;00m \u001b[38;5;28;01mas\u001b[39;00m e:\n",
      "\u001b[0;31mTypeError\u001b[0m: __init__() missing 2 required positional arguments: 'model' and 'scenario'",
      "\nDuring handling of the above exception, another exception occurred:\n",
      "\u001b[0;31mTypeError\u001b[0m                                 Traceback (most recent call last)",
      "Cell \u001b[0;32mIn[209], line 13\u001b[0m\n\u001b[1;32m      9\u001b[0m OmegaConf\u001b[38;5;241m.\u001b[39mset_struct(config, \u001b[38;5;28;01mTrue\u001b[39;00m)\n\u001b[1;32m     10\u001b[0m \u001b[38;5;66;03m# instantiate(config, model=model)\u001b[39;00m\n\u001b[0;32m---> 13\u001b[0m \u001b[43mbuild_torch_module_wrapper\u001b[49m\u001b[43m(\u001b[49m\u001b[43mconfig\u001b[49m\u001b[43m)\u001b[49m\n",
      "File \u001b[0;32m~/nuplan-devkit/nuplan/planning/script/builders/model_builder.py:19\u001b[0m, in \u001b[0;36mbuild_torch_module_wrapper\u001b[0;34m(cfg)\u001b[0m\n\u001b[1;32m     13\u001b[0m \u001b[38;5;250m\u001b[39m\u001b[38;5;124;03m\"\"\"\u001b[39;00m\n\u001b[1;32m     14\u001b[0m \u001b[38;5;124;03mBuilds the NN module.\u001b[39;00m\n\u001b[1;32m     15\u001b[0m \u001b[38;5;124;03m:param cfg: DictConfig. Configuration that is used to run the experiment.\u001b[39;00m\n\u001b[1;32m     16\u001b[0m \u001b[38;5;124;03m:return: Instance of TorchModuleWrapper.\u001b[39;00m\n\u001b[1;32m     17\u001b[0m \u001b[38;5;124;03m\"\"\"\u001b[39;00m\n\u001b[1;32m     18\u001b[0m logger\u001b[38;5;241m.\u001b[39minfo(\u001b[38;5;124m'\u001b[39m\u001b[38;5;124mBuilding TorchModuleWrapper...\u001b[39m\u001b[38;5;124m'\u001b[39m)\n\u001b[0;32m---> 19\u001b[0m model \u001b[38;5;241m=\u001b[39m \u001b[43minstantiate\u001b[49m\u001b[43m(\u001b[49m\u001b[43mcfg\u001b[49m\u001b[43m)\u001b[49m\n\u001b[1;32m     20\u001b[0m validate_type(model, TorchModuleWrapper)\n\u001b[1;32m     21\u001b[0m logger\u001b[38;5;241m.\u001b[39minfo(\u001b[38;5;124m'\u001b[39m\u001b[38;5;124mBuilding TorchModuleWrapper...DONE!\u001b[39m\u001b[38;5;124m'\u001b[39m)\n",
      "File \u001b[0;32m~/anaconda3/envs/nuplan/lib/python3.9/site-packages/hydra/_internal/instantiate/_instantiate2.py:180\u001b[0m, in \u001b[0;36minstantiate\u001b[0;34m(config, *args, **kwargs)\u001b[0m\n\u001b[1;32m    177\u001b[0m     _recursive_ \u001b[38;5;241m=\u001b[39m config\u001b[38;5;241m.\u001b[39mpop(_Keys\u001b[38;5;241m.\u001b[39mRECURSIVE, \u001b[38;5;28;01mTrue\u001b[39;00m)\n\u001b[1;32m    178\u001b[0m     _convert_ \u001b[38;5;241m=\u001b[39m config\u001b[38;5;241m.\u001b[39mpop(_Keys\u001b[38;5;241m.\u001b[39mCONVERT, ConvertMode\u001b[38;5;241m.\u001b[39mNONE)\n\u001b[0;32m--> 180\u001b[0m     \u001b[38;5;28;01mreturn\u001b[39;00m \u001b[43minstantiate_node\u001b[49m\u001b[43m(\u001b[49m\u001b[43mconfig\u001b[49m\u001b[43m,\u001b[49m\u001b[43m \u001b[49m\u001b[38;5;241;43m*\u001b[39;49m\u001b[43margs\u001b[49m\u001b[43m,\u001b[49m\u001b[43m \u001b[49m\u001b[43mrecursive\u001b[49m\u001b[38;5;241;43m=\u001b[39;49m\u001b[43m_recursive_\u001b[49m\u001b[43m,\u001b[49m\u001b[43m \u001b[49m\u001b[43mconvert\u001b[49m\u001b[38;5;241;43m=\u001b[39;49m\u001b[43m_convert_\u001b[49m\u001b[43m)\u001b[49m\n\u001b[1;32m    181\u001b[0m \u001b[38;5;28;01melse\u001b[39;00m:\n\u001b[1;32m    182\u001b[0m     \u001b[38;5;28;01mraise\u001b[39;00m InstantiationException(\n\u001b[1;32m    183\u001b[0m         \u001b[38;5;124m\"\u001b[39m\u001b[38;5;124mTop level config has to be OmegaConf DictConfig, plain dict, or a Structured Config class or instance\u001b[39m\u001b[38;5;124m\"\u001b[39m\n\u001b[1;32m    184\u001b[0m     )\n",
      "File \u001b[0;32m~/anaconda3/envs/nuplan/lib/python3.9/site-packages/hydra/_internal/instantiate/_instantiate2.py:249\u001b[0m, in \u001b[0;36minstantiate_node\u001b[0;34m(node, convert, recursive, *args)\u001b[0m\n\u001b[1;32m    245\u001b[0m                 value \u001b[38;5;241m=\u001b[39m instantiate_node(\n\u001b[1;32m    246\u001b[0m                     value, convert\u001b[38;5;241m=\u001b[39mconvert, recursive\u001b[38;5;241m=\u001b[39mrecursive\n\u001b[1;32m    247\u001b[0m                 )\n\u001b[1;32m    248\u001b[0m             kwargs[key] \u001b[38;5;241m=\u001b[39m _convert_node(value, convert)\n\u001b[0;32m--> 249\u001b[0m     \u001b[38;5;28;01mreturn\u001b[39;00m \u001b[43m_call_target\u001b[49m\u001b[43m(\u001b[49m\u001b[43mtarget\u001b[49m\u001b[43m,\u001b[49m\u001b[43m \u001b[49m\u001b[38;5;241;43m*\u001b[39;49m\u001b[43margs\u001b[49m\u001b[43m,\u001b[49m\u001b[43m \u001b[49m\u001b[38;5;241;43m*\u001b[39;49m\u001b[38;5;241;43m*\u001b[39;49m\u001b[43mkwargs\u001b[49m\u001b[43m)\u001b[49m\n\u001b[1;32m    250\u001b[0m \u001b[38;5;28;01melse\u001b[39;00m:\n\u001b[1;32m    251\u001b[0m     \u001b[38;5;66;03m# If ALL or PARTIAL non structured, instantiate in dict and resolve interpolations eagerly.\u001b[39;00m\n\u001b[1;32m    252\u001b[0m     \u001b[38;5;28;01mif\u001b[39;00m convert \u001b[38;5;241m==\u001b[39m ConvertMode\u001b[38;5;241m.\u001b[39mALL \u001b[38;5;129;01mor\u001b[39;00m (\n\u001b[1;32m    253\u001b[0m         convert \u001b[38;5;241m==\u001b[39m ConvertMode\u001b[38;5;241m.\u001b[39mPARTIAL \u001b[38;5;129;01mand\u001b[39;00m node\u001b[38;5;241m.\u001b[39m_metadata\u001b[38;5;241m.\u001b[39mobject_type \u001b[38;5;129;01mis\u001b[39;00m \u001b[38;5;28;01mNone\u001b[39;00m\n\u001b[1;32m    254\u001b[0m     ):\n",
      "File \u001b[0;32m~/anaconda3/envs/nuplan/lib/python3.9/site-packages/hydra/_internal/instantiate/_instantiate2.py:64\u001b[0m, in \u001b[0;36m_call_target\u001b[0;34m(target, *args, **kwargs)\u001b[0m\n\u001b[1;32m     62\u001b[0m     \u001b[38;5;28;01mreturn\u001b[39;00m target(\u001b[38;5;241m*\u001b[39margs, \u001b[38;5;241m*\u001b[39m\u001b[38;5;241m*\u001b[39mkwargs)\n\u001b[1;32m     63\u001b[0m \u001b[38;5;28;01mexcept\u001b[39;00m \u001b[38;5;167;01mException\u001b[39;00m \u001b[38;5;28;01mas\u001b[39;00m e:\n\u001b[0;32m---> 64\u001b[0m     \u001b[38;5;28;01mraise\u001b[39;00m \u001b[38;5;28mtype\u001b[39m(e)(\n\u001b[1;32m     65\u001b[0m         \u001b[38;5;124mf\u001b[39m\u001b[38;5;124m\"\u001b[39m\u001b[38;5;124mError instantiating \u001b[39m\u001b[38;5;124m'\u001b[39m\u001b[38;5;132;01m{\u001b[39;00m_convert_target_to_string(target)\u001b[38;5;132;01m}\u001b[39;00m\u001b[38;5;124m'\u001b[39m\u001b[38;5;124m : \u001b[39m\u001b[38;5;132;01m{\u001b[39;00me\u001b[38;5;132;01m}\u001b[39;00m\u001b[38;5;124m\"\u001b[39m\n\u001b[1;32m     66\u001b[0m     )\u001b[38;5;241m.\u001b[39mwith_traceback(sys\u001b[38;5;241m.\u001b[39mexc_info()[\u001b[38;5;241m2\u001b[39m])\n",
      "File \u001b[0;32m~/anaconda3/envs/nuplan/lib/python3.9/site-packages/hydra/_internal/instantiate/_instantiate2.py:62\u001b[0m, in \u001b[0;36m_call_target\u001b[0;34m(target, *args, **kwargs)\u001b[0m\n\u001b[1;32m     59\u001b[0m         \u001b[38;5;28;01mif\u001b[39;00m OmegaConf\u001b[38;5;241m.\u001b[39mis_config(v):\n\u001b[1;32m     60\u001b[0m             v\u001b[38;5;241m.\u001b[39m_set_parent(\u001b[38;5;28;01mNone\u001b[39;00m)\n\u001b[0;32m---> 62\u001b[0m     \u001b[38;5;28;01mreturn\u001b[39;00m \u001b[43mtarget\u001b[49m\u001b[43m(\u001b[49m\u001b[38;5;241;43m*\u001b[39;49m\u001b[43margs\u001b[49m\u001b[43m,\u001b[49m\u001b[43m \u001b[49m\u001b[38;5;241;43m*\u001b[39;49m\u001b[38;5;241;43m*\u001b[39;49m\u001b[43mkwargs\u001b[49m\u001b[43m)\u001b[49m\n\u001b[1;32m     63\u001b[0m \u001b[38;5;28;01mexcept\u001b[39;00m \u001b[38;5;167;01mException\u001b[39;00m \u001b[38;5;28;01mas\u001b[39;00m e:\n\u001b[1;32m     64\u001b[0m     \u001b[38;5;28;01mraise\u001b[39;00m \u001b[38;5;28mtype\u001b[39m(e)(\n\u001b[1;32m     65\u001b[0m         \u001b[38;5;124mf\u001b[39m\u001b[38;5;124m\"\u001b[39m\u001b[38;5;124mError instantiating \u001b[39m\u001b[38;5;124m'\u001b[39m\u001b[38;5;132;01m{\u001b[39;00m_convert_target_to_string(target)\u001b[38;5;132;01m}\u001b[39;00m\u001b[38;5;124m'\u001b[39m\u001b[38;5;124m : \u001b[39m\u001b[38;5;132;01m{\u001b[39;00me\u001b[38;5;132;01m}\u001b[39;00m\u001b[38;5;124m\"\u001b[39m\n\u001b[1;32m     66\u001b[0m     )\u001b[38;5;241m.\u001b[39mwith_traceback(sys\u001b[38;5;241m.\u001b[39mexc_info()[\u001b[38;5;241m2\u001b[39m])\n",
      "\u001b[0;31mTypeError\u001b[0m: Error instantiating 'nuplan.planning.simulation.observation.ego_centric_ml_agents.EgoCentricMLAgents' : __init__() missing 2 required positional arguments: 'model' and 'scenario'"
     ]
    }
   ],
   "source": [
    "from omegaconf import DictConfig, OmegaConf\n",
    "from nuplan.planning.script.builders.model_builder import build_torch_module_wrapper\n",
    "config = observation_cfg.copy()\n",
    "print(\"config : \", type(config))\n",
    "OmegaConf.set_struct(config, False)\n",
    "print(\"config : \", type(config))\n",
    "config.pop('model_config')\n",
    "config.pop('checkpoint_path')\n",
    "OmegaConf.set_struct(config, True)\n",
    "# instantiate(config, model=model)\n",
    "\n",
    "\n",
    "build_torch_module_wrapper(config)"
   ]
  },
  {
   "cell_type": "code",
   "execution_count": null,
   "id": "ca68a36e-469b-45ab-8b39-7fe859ca9144",
   "metadata": {},
   "outputs": [],
   "source": []
  },
  {
   "cell_type": "code",
   "execution_count": 103,
   "id": "0d103119-f5be-4bf5-bbcd-a212abb144c3",
   "metadata": {},
   "outputs": [
    {
     "data": {
      "text/plain": [
       "<bound method AbstractPlanner.compute_trajectory of <nuplan.planning.simulation.planner.idm_planner.IDMPlanner object at 0x7f0628953c10>>"
      ]
     },
     "execution_count": 103,
     "metadata": {},
     "output_type": "execute_result"
    }
   ],
   "source": [
    "a.idm_planner.compute_trajectory"
   ]
  },
  {
   "cell_type": "markdown",
   "id": "12e79a0a",
   "metadata": {},
   "source": [
    "## Launch simulation (within the notebook)"
   ]
  },
  {
   "cell_type": "code",
   "execution_count": 49,
   "id": "ba7aab5b",
   "metadata": {},
   "outputs": [
    {
     "name": "stderr",
     "output_type": "stream",
     "text": [
      "Global seed set to 0\n"
     ]
    },
    {
     "name": "stdout",
     "output_type": "stream",
     "text": [
      "2024-03-17 18:28:49,464 INFO {/home/dabin/nuplan-devkit/nuplan/planning/script/builders/main_callback_builder.py:20}  Building MultiMainCallback...\n",
      "2024-03-17 18:28:49,464 INFO {/home/dabin/nuplan-devkit/nuplan/planning/script/builders/main_callback_builder.py:20}  Building MultiMainCallback...\n",
      "2024-03-17 18:28:49,487 INFO {/home/dabin/nuplan-devkit/nuplan/planning/script/builders/main_callback_builder.py:35}  Building MultiMainCallback: 4...DONE!\n",
      "2024-03-17 18:28:49,487 INFO {/home/dabin/nuplan-devkit/nuplan/planning/script/builders/main_callback_builder.py:35}  Building MultiMainCallback: 4...DONE!\n",
      "2024-03-17 18:28:49,620 INFO {/home/dabin/nuplan-devkit/nuplan/planning/script/builders/worker_pool_builder.py:19}  Building WorkerPool...\n",
      "2024-03-17 18:28:49,620 INFO {/home/dabin/nuplan-devkit/nuplan/planning/script/builders/worker_pool_builder.py:19}  Building WorkerPool...\n",
      "2024-03-17 18:28:49,621 WARNING {/home/dabin/nuplan-devkit/nuplan/planning/utils/multithreading/worker_ray.py:135}  Ray is running, we will shut it down before starting again!\n",
      "2024-03-17 18:28:49,621 WARNING {/home/dabin/nuplan-devkit/nuplan/planning/utils/multithreading/worker_ray.py:135}  Ray is running, we will shut it down before starting again!\n",
      "2024-03-17 18:28:50,986 INFO {/home/dabin/nuplan-devkit/nuplan/planning/utils/multithreading/worker_ray.py:78}  Starting ray local!\n",
      "2024-03-17 18:28:50,986 INFO {/home/dabin/nuplan-devkit/nuplan/planning/utils/multithreading/worker_ray.py:78}  Starting ray local!\n"
     ]
    },
    {
     "name": "stderr",
     "output_type": "stream",
     "text": [
      "2024-03-17 18:28:53,014\tINFO worker.py:1724 -- Started a local Ray instance.\n"
     ]
    },
    {
     "name": "stdout",
     "output_type": "stream",
     "text": [
      "2024-03-17 18:28:53,538 INFO {/home/dabin/nuplan-devkit/nuplan/planning/utils/multithreading/worker_pool.py:101}  Worker: RayDistributed\n",
      "2024-03-17 18:28:53,538 INFO {/home/dabin/nuplan-devkit/nuplan/planning/utils/multithreading/worker_pool.py:101}  Worker: RayDistributed\n",
      "2024-03-17 18:28:53,539 INFO {/home/dabin/nuplan-devkit/nuplan/planning/utils/multithreading/worker_pool.py:102}  Number of nodes: 1\n",
      "Number of CPUs per node: 24\n",
      "Number of GPUs per node: 1\n",
      "Number of threads across all nodes: 24\n",
      "2024-03-17 18:28:53,539 INFO {/home/dabin/nuplan-devkit/nuplan/planning/utils/multithreading/worker_pool.py:102}  Number of nodes: 1\n",
      "Number of CPUs per node: 24\n",
      "Number of GPUs per node: 1\n",
      "Number of threads across all nodes: 24\n",
      "2024-03-17 18:28:53,539 INFO {/home/dabin/nuplan-devkit/nuplan/planning/script/builders/worker_pool_builder.py:27}  Building WorkerPool...DONE!\n",
      "2024-03-17 18:28:53,539 INFO {/home/dabin/nuplan-devkit/nuplan/planning/script/builders/worker_pool_builder.py:27}  Building WorkerPool...DONE!\n",
      "2024-03-17 18:28:53,539 INFO {/home/dabin/nuplan-devkit/nuplan/planning/script/builders/folder_builder.py:32}  Building experiment folders...\n",
      "2024-03-17 18:28:53,539 INFO {/home/dabin/nuplan-devkit/nuplan/planning/script/builders/folder_builder.py:32}  Building experiment folders...\n",
      "2024-03-17 18:28:53,539 INFO {/home/dabin/nuplan-devkit/nuplan/planning/script/builders/folder_builder.py:35}  \n",
      "\n",
      "\tFolder where all results are stored: /tmp/tutorial_nuplan_framework/simulation_simple_experiment/closed_loop_reactive_agents/2024.03.17.18.28.49\n",
      "\n",
      "2024-03-17 18:28:53,539 INFO {/home/dabin/nuplan-devkit/nuplan/planning/script/builders/folder_builder.py:35}  \n",
      "\n",
      "\tFolder where all results are stored: /tmp/tutorial_nuplan_framework/simulation_simple_experiment/closed_loop_reactive_agents/2024.03.17.18.28.49\n",
      "\n",
      "2024-03-17 18:28:53,541 INFO {/home/dabin/nuplan-devkit/nuplan/planning/script/builders/folder_builder.py:70}  Building experiment folders...DONE!\n",
      "2024-03-17 18:28:53,541 INFO {/home/dabin/nuplan-devkit/nuplan/planning/script/builders/folder_builder.py:70}  Building experiment folders...DONE!\n",
      "2024-03-17 18:28:53,541 INFO {/home/dabin/nuplan-devkit/nuplan/planning/script/builders/simulation_callback_builder.py:52}  Building AbstractCallback...\n",
      "2024-03-17 18:28:53,541 INFO {/home/dabin/nuplan-devkit/nuplan/planning/script/builders/simulation_callback_builder.py:52}  Building AbstractCallback...\n",
      "2024-03-17 18:28:53,541 INFO {/home/dabin/nuplan-devkit/nuplan/planning/script/builders/simulation_callback_builder.py:68}  Building AbstractCallback: 0...DONE!\n",
      "2024-03-17 18:28:53,541 INFO {/home/dabin/nuplan-devkit/nuplan/planning/script/builders/simulation_callback_builder.py:68}  Building AbstractCallback: 0...DONE!\n",
      "2024-03-17 18:28:53,542 INFO {/home/dabin/nuplan-devkit/nuplan/planning/script/builders/simulation_builder.py:47}  Building simulations...\n",
      "2024-03-17 18:28:53,542 INFO {/home/dabin/nuplan-devkit/nuplan/planning/script/builders/simulation_builder.py:47}  Building simulations...\n",
      "2024-03-17 18:28:53,542 INFO {/home/dabin/nuplan-devkit/nuplan/planning/script/builders/simulation_builder.py:53}  Extracting scenarios...\n",
      "2024-03-17 18:28:53,542 INFO {/home/dabin/nuplan-devkit/nuplan/planning/script/builders/simulation_builder.py:53}  Extracting scenarios...\n",
      "2024-03-17 18:28:53,542 INFO {/home/dabin/nuplan-devkit/nuplan/common/utils/distributed_scenario_filter.py:83}  Building Scenarios in mode DistributedMode.SINGLE_NODE\n",
      "2024-03-17 18:28:53,542 INFO {/home/dabin/nuplan-devkit/nuplan/common/utils/distributed_scenario_filter.py:83}  Building Scenarios in mode DistributedMode.SINGLE_NODE\n",
      "2024-03-17 18:28:53,542 INFO {/home/dabin/nuplan-devkit/nuplan/planning/script/builders/scenario_building_builder.py:18}  Building AbstractScenarioBuilder...\n",
      "2024-03-17 18:28:53,542 INFO {/home/dabin/nuplan-devkit/nuplan/planning/script/builders/scenario_building_builder.py:18}  Building AbstractScenarioBuilder...\n",
      "2024-03-17 18:28:53,557 INFO {/home/dabin/nuplan-devkit/nuplan/planning/script/builders/scenario_building_builder.py:21}  Building AbstractScenarioBuilder...DONE!\n",
      "2024-03-17 18:28:53,557 INFO {/home/dabin/nuplan-devkit/nuplan/planning/script/builders/scenario_building_builder.py:21}  Building AbstractScenarioBuilder...DONE!\n",
      "2024-03-17 18:28:53,557 INFO {/home/dabin/nuplan-devkit/nuplan/planning/script/builders/scenario_filter_builder.py:35}  Building ScenarioFilter...\n",
      "2024-03-17 18:28:53,557 INFO {/home/dabin/nuplan-devkit/nuplan/planning/script/builders/scenario_filter_builder.py:35}  Building ScenarioFilter...\n",
      "2024-03-17 18:28:53,558 INFO {/home/dabin/nuplan-devkit/nuplan/planning/script/builders/scenario_filter_builder.py:44}  Building ScenarioFilter...DONE!\n",
      "2024-03-17 18:28:53,558 INFO {/home/dabin/nuplan-devkit/nuplan/planning/script/builders/scenario_filter_builder.py:44}  Building ScenarioFilter...DONE!\n"
     ]
    },
    {
     "name": "stderr",
     "output_type": "stream",
     "text": [
      "Ray objects: 100%|██████████████████████████████████████████████████████| 24/24 [00:02<00:00, 11.66it/s]\n"
     ]
    },
    {
     "name": "stdout",
     "output_type": "stream",
     "text": [
      "2024-03-17 18:28:55,649 INFO {/home/dabin/nuplan-devkit/nuplan/planning/script/builders/simulation_builder.py:74}  Building metric engines...\n",
      "2024-03-17 18:28:55,649 INFO {/home/dabin/nuplan-devkit/nuplan/planning/script/builders/simulation_builder.py:74}  Building metric engines...\n",
      "2024-03-17 18:28:55,683 INFO {/home/dabin/nuplan-devkit/nuplan/planning/script/builders/simulation_builder.py:76}  Building metric engines...DONE\n",
      "2024-03-17 18:28:55,683 INFO {/home/dabin/nuplan-devkit/nuplan/planning/script/builders/simulation_builder.py:76}  Building metric engines...DONE\n",
      "2024-03-17 18:28:55,683 INFO {/home/dabin/nuplan-devkit/nuplan/planning/script/builders/simulation_builder.py:80}  Building simulations from 31 scenarios...\n",
      "2024-03-17 18:28:55,683 INFO {/home/dabin/nuplan-devkit/nuplan/planning/script/builders/simulation_builder.py:80}  Building simulations from 31 scenarios...\n",
      "2024-03-17 18:28:55,684 INFO {/home/dabin/nuplan-devkit/nuplan/planning/script/builders/model_builder.py:18}  Building TorchModuleWrapper...\n",
      "2024-03-17 18:28:55,684 INFO {/home/dabin/nuplan-devkit/nuplan/planning/script/builders/model_builder.py:18}  Building TorchModuleWrapper...\n"
     ]
    },
    {
     "ename": "InstantiationException",
     "evalue": "Top level config has to be OmegaConf DictConfig, plain dict, or a Structured Config class or instance",
     "output_type": "error",
     "traceback": [
      "\u001b[0;31m---------------------------------------------------------------------------\u001b[0m",
      "\u001b[0;31mInstantiationException\u001b[0m                    Traceback (most recent call last)",
      "Cell \u001b[0;32mIn[49], line 4\u001b[0m\n\u001b[1;32m      1\u001b[0m \u001b[38;5;28;01mfrom\u001b[39;00m \u001b[38;5;21;01mnuplan\u001b[39;00m\u001b[38;5;21;01m.\u001b[39;00m\u001b[38;5;21;01mplanning\u001b[39;00m\u001b[38;5;21;01m.\u001b[39;00m\u001b[38;5;21;01mscript\u001b[39;00m\u001b[38;5;21;01m.\u001b[39;00m\u001b[38;5;21;01mrun_simulation\u001b[39;00m \u001b[38;5;28;01mimport\u001b[39;00m main \u001b[38;5;28;01mas\u001b[39;00m main_simulation\n\u001b[1;32m      3\u001b[0m \u001b[38;5;66;03m# Run the simulation loop (real-time visualization not yet supported, see next section for visualization)\u001b[39;00m\n\u001b[0;32m----> 4\u001b[0m \u001b[43mmain_simulation\u001b[49m\u001b[43m(\u001b[49m\u001b[43mcfg\u001b[49m\u001b[43m)\u001b[49m\n\u001b[1;32m      6\u001b[0m \u001b[38;5;66;03m# Simple simulation folder for visualization in nuBoard\u001b[39;00m\n\u001b[1;32m      7\u001b[0m simple_simulation_folder \u001b[38;5;241m=\u001b[39m cfg\u001b[38;5;241m.\u001b[39moutput_dir\n",
      "File \u001b[0;32m~/anaconda3/envs/nuplan/lib/python3.9/site-packages/hydra/main.py:44\u001b[0m, in \u001b[0;36mmain.<locals>.main_decorator.<locals>.decorated_main\u001b[0;34m(cfg_passthrough)\u001b[0m\n\u001b[1;32m     41\u001b[0m \u001b[38;5;129m@functools\u001b[39m\u001b[38;5;241m.\u001b[39mwraps(task_function)\n\u001b[1;32m     42\u001b[0m \u001b[38;5;28;01mdef\u001b[39;00m \u001b[38;5;21mdecorated_main\u001b[39m(cfg_passthrough: Optional[DictConfig] \u001b[38;5;241m=\u001b[39m \u001b[38;5;28;01mNone\u001b[39;00m) \u001b[38;5;241m-\u001b[39m\u001b[38;5;241m>\u001b[39m Any:\n\u001b[1;32m     43\u001b[0m     \u001b[38;5;28;01mif\u001b[39;00m cfg_passthrough \u001b[38;5;129;01mis\u001b[39;00m \u001b[38;5;129;01mnot\u001b[39;00m \u001b[38;5;28;01mNone\u001b[39;00m:\n\u001b[0;32m---> 44\u001b[0m         \u001b[38;5;28;01mreturn\u001b[39;00m \u001b[43mtask_function\u001b[49m\u001b[43m(\u001b[49m\u001b[43mcfg_passthrough\u001b[49m\u001b[43m)\u001b[49m\n\u001b[1;32m     45\u001b[0m     \u001b[38;5;28;01melse\u001b[39;00m:\n\u001b[1;32m     46\u001b[0m         args \u001b[38;5;241m=\u001b[39m get_args_parser()\n",
      "File \u001b[0;32m~/nuplan-devkit/nuplan/planning/script/run_simulation.py:110\u001b[0m, in \u001b[0;36mmain\u001b[0;34m(cfg)\u001b[0m\n\u001b[1;32m    107\u001b[0m \u001b[38;5;28;01massert\u001b[39;00m cfg\u001b[38;5;241m.\u001b[39msimulation_log_main_path \u001b[38;5;129;01mis\u001b[39;00m \u001b[38;5;28;01mNone\u001b[39;00m, \u001b[38;5;124m'\u001b[39m\u001b[38;5;124mSimulation_log_main_path must not be set when running simulation.\u001b[39m\u001b[38;5;124m'\u001b[39m\n\u001b[1;32m    109\u001b[0m \u001b[38;5;66;03m# Execute simulation with preconfigured planner(s).\u001b[39;00m\n\u001b[0;32m--> 110\u001b[0m \u001b[43mrun_simulation\u001b[49m\u001b[43m(\u001b[49m\u001b[43mcfg\u001b[49m\u001b[38;5;241;43m=\u001b[39;49m\u001b[43mcfg\u001b[49m\u001b[43m)\u001b[49m\n\u001b[1;32m    112\u001b[0m \u001b[38;5;28;01mif\u001b[39;00m is_s3_path(Path(cfg\u001b[38;5;241m.\u001b[39moutput_dir)):\n\u001b[1;32m    113\u001b[0m     clean_up_s3_artifacts()\n",
      "File \u001b[0;32m~/nuplan-devkit/nuplan/planning/script/run_simulation.py:66\u001b[0m, in \u001b[0;36mrun_simulation\u001b[0;34m(cfg, planners)\u001b[0m\n\u001b[1;32m     63\u001b[0m \u001b[38;5;28;01mif\u001b[39;00m \u001b[38;5;28misinstance\u001b[39m(planners, AbstractPlanner):\n\u001b[1;32m     64\u001b[0m     planners \u001b[38;5;241m=\u001b[39m [planners]\n\u001b[0;32m---> 66\u001b[0m runners \u001b[38;5;241m=\u001b[39m \u001b[43mbuild_simulations\u001b[49m\u001b[43m(\u001b[49m\n\u001b[1;32m     67\u001b[0m \u001b[43m    \u001b[49m\u001b[43mcfg\u001b[49m\u001b[38;5;241;43m=\u001b[39;49m\u001b[43mcfg\u001b[49m\u001b[43m,\u001b[49m\n\u001b[1;32m     68\u001b[0m \u001b[43m    \u001b[49m\u001b[43mcallbacks\u001b[49m\u001b[38;5;241;43m=\u001b[39;49m\u001b[43mcallbacks\u001b[49m\u001b[43m,\u001b[49m\n\u001b[1;32m     69\u001b[0m \u001b[43m    \u001b[49m\u001b[43mworker\u001b[49m\u001b[38;5;241;43m=\u001b[39;49m\u001b[43mcommon_builder\u001b[49m\u001b[38;5;241;43m.\u001b[39;49m\u001b[43mworker\u001b[49m\u001b[43m,\u001b[49m\n\u001b[1;32m     70\u001b[0m \u001b[43m    \u001b[49m\u001b[43mpre_built_planners\u001b[49m\u001b[38;5;241;43m=\u001b[39;49m\u001b[43mplanners\u001b[49m\u001b[43m,\u001b[49m\n\u001b[1;32m     71\u001b[0m \u001b[43m    \u001b[49m\u001b[43mcallbacks_worker\u001b[49m\u001b[38;5;241;43m=\u001b[39;49m\u001b[43mcallbacks_worker_pool\u001b[49m\u001b[43m,\u001b[49m\n\u001b[1;32m     72\u001b[0m \u001b[43m\u001b[49m\u001b[43m)\u001b[49m\n\u001b[1;32m     74\u001b[0m \u001b[38;5;28;01mif\u001b[39;00m common_builder\u001b[38;5;241m.\u001b[39mprofiler:\n\u001b[1;32m     75\u001b[0m     \u001b[38;5;66;03m# Stop simulation construction profiling\u001b[39;00m\n\u001b[1;32m     76\u001b[0m     common_builder\u001b[38;5;241m.\u001b[39mprofiler\u001b[38;5;241m.\u001b[39msave_profiler(profiler_name)\n",
      "File \u001b[0;32m~/nuplan-devkit/nuplan/planning/script/builders/simulation_builder.py:90\u001b[0m, in \u001b[0;36mbuild_simulations\u001b[0;34m(cfg, worker, callbacks, callbacks_worker, pre_built_planners)\u001b[0m\n\u001b[1;32m     87\u001b[0m     \u001b[38;5;28;01mif\u001b[39;00m \u001b[38;5;124m'\u001b[39m\u001b[38;5;124mplanner\u001b[39m\u001b[38;5;124m'\u001b[39m \u001b[38;5;129;01mnot\u001b[39;00m \u001b[38;5;129;01min\u001b[39;00m cfg\u001b[38;5;241m.\u001b[39mkeys():\n\u001b[1;32m     88\u001b[0m         \u001b[38;5;28;01mraise\u001b[39;00m \u001b[38;5;167;01mKeyError\u001b[39;00m(\u001b[38;5;124m'\u001b[39m\u001b[38;5;124mPlanner not specified in config. Please specify a planner using \u001b[39m\u001b[38;5;124m\"\u001b[39m\u001b[38;5;124mplanner\u001b[39m\u001b[38;5;124m\"\u001b[39m\u001b[38;5;124m field.\u001b[39m\u001b[38;5;124m'\u001b[39m)\n\u001b[0;32m---> 90\u001b[0m     planners \u001b[38;5;241m=\u001b[39m \u001b[43mbuild_planners\u001b[49m\u001b[43m(\u001b[49m\u001b[43mcfg\u001b[49m\u001b[38;5;241;43m.\u001b[39;49m\u001b[43mplanner\u001b[49m\u001b[43m,\u001b[49m\u001b[43m \u001b[49m\u001b[43mscenario\u001b[49m\u001b[43m)\u001b[49m\n\u001b[1;32m     91\u001b[0m \u001b[38;5;28;01melse\u001b[39;00m:\n\u001b[1;32m     92\u001b[0m     planners \u001b[38;5;241m=\u001b[39m pre_built_planners\n",
      "File \u001b[0;32m~/nuplan-devkit/nuplan/planning/script/builders/planner_builder.py:58\u001b[0m, in \u001b[0;36mbuild_planners\u001b[0;34m(planner_cfg, scenario)\u001b[0m\n\u001b[1;32m     51\u001b[0m \u001b[38;5;28;01mdef\u001b[39;00m \u001b[38;5;21mbuild_planners\u001b[39m(planner_cfg: DictConfig, scenario: Optional[AbstractScenario]) \u001b[38;5;241m-\u001b[39m\u001b[38;5;241m>\u001b[39m List[AbstractPlanner]:\n\u001b[1;32m     52\u001b[0m \u001b[38;5;250m    \u001b[39m\u001b[38;5;124;03m\"\"\"\u001b[39;00m\n\u001b[1;32m     53\u001b[0m \u001b[38;5;124;03m    Instantiate multiple planners by calling build_planner\u001b[39;00m\n\u001b[1;32m     54\u001b[0m \u001b[38;5;124;03m    :param planners_cfg: planners config\u001b[39;00m\n\u001b[1;32m     55\u001b[0m \u001b[38;5;124;03m    :param scenario: scenario\u001b[39;00m\n\u001b[1;32m     56\u001b[0m \u001b[38;5;124;03m    :return planners: List of AbstractPlanners\u001b[39;00m\n\u001b[1;32m     57\u001b[0m \u001b[38;5;124;03m    \"\"\"\u001b[39;00m\n\u001b[0;32m---> 58\u001b[0m     \u001b[38;5;28;01mreturn\u001b[39;00m [_build_planner(planner, scenario) \u001b[38;5;28;01mfor\u001b[39;00m planner \u001b[38;5;129;01min\u001b[39;00m planner_cfg\u001b[38;5;241m.\u001b[39mvalues()]\n",
      "File \u001b[0;32m~/nuplan-devkit/nuplan/planning/script/builders/planner_builder.py:58\u001b[0m, in \u001b[0;36m<listcomp>\u001b[0;34m(.0)\u001b[0m\n\u001b[1;32m     51\u001b[0m \u001b[38;5;28;01mdef\u001b[39;00m \u001b[38;5;21mbuild_planners\u001b[39m(planner_cfg: DictConfig, scenario: Optional[AbstractScenario]) \u001b[38;5;241m-\u001b[39m\u001b[38;5;241m>\u001b[39m List[AbstractPlanner]:\n\u001b[1;32m     52\u001b[0m \u001b[38;5;250m    \u001b[39m\u001b[38;5;124;03m\"\"\"\u001b[39;00m\n\u001b[1;32m     53\u001b[0m \u001b[38;5;124;03m    Instantiate multiple planners by calling build_planner\u001b[39;00m\n\u001b[1;32m     54\u001b[0m \u001b[38;5;124;03m    :param planners_cfg: planners config\u001b[39;00m\n\u001b[1;32m     55\u001b[0m \u001b[38;5;124;03m    :param scenario: scenario\u001b[39;00m\n\u001b[1;32m     56\u001b[0m \u001b[38;5;124;03m    :return planners: List of AbstractPlanners\u001b[39;00m\n\u001b[1;32m     57\u001b[0m \u001b[38;5;124;03m    \"\"\"\u001b[39;00m\n\u001b[0;32m---> 58\u001b[0m     \u001b[38;5;28;01mreturn\u001b[39;00m [\u001b[43m_build_planner\u001b[49m\u001b[43m(\u001b[49m\u001b[43mplanner\u001b[49m\u001b[43m,\u001b[49m\u001b[43m \u001b[49m\u001b[43mscenario\u001b[49m\u001b[43m)\u001b[49m \u001b[38;5;28;01mfor\u001b[39;00m planner \u001b[38;5;129;01min\u001b[39;00m planner_cfg\u001b[38;5;241m.\u001b[39mvalues()]\n",
      "File \u001b[0;32m~/nuplan-devkit/nuplan/planning/script/builders/planner_builder.py:25\u001b[0m, in \u001b[0;36m_build_planner\u001b[0;34m(planner_cfg, scenario)\u001b[0m\n\u001b[1;32m     22\u001b[0m config \u001b[38;5;241m=\u001b[39m planner_cfg\u001b[38;5;241m.\u001b[39mcopy()\n\u001b[1;32m     23\u001b[0m \u001b[38;5;28;01mif\u001b[39;00m is_target_type(planner_cfg, MLPlanner):\n\u001b[1;32m     24\u001b[0m     \u001b[38;5;66;03m# Build model and feature builders needed to run an ML model in simulation\u001b[39;00m\n\u001b[0;32m---> 25\u001b[0m     torch_module_wrapper \u001b[38;5;241m=\u001b[39m \u001b[43mbuild_torch_module_wrapper\u001b[49m\u001b[43m(\u001b[49m\u001b[43mplanner_cfg\u001b[49m\u001b[38;5;241;43m.\u001b[39;49m\u001b[43mmodel_config\u001b[49m\u001b[43m)\u001b[49m\n\u001b[1;32m     26\u001b[0m     model \u001b[38;5;241m=\u001b[39m LightningModuleWrapper\u001b[38;5;241m.\u001b[39mload_from_checkpoint(\n\u001b[1;32m     27\u001b[0m         planner_cfg\u001b[38;5;241m.\u001b[39mcheckpoint_path, model\u001b[38;5;241m=\u001b[39mtorch_module_wrapper\n\u001b[1;32m     28\u001b[0m     )\u001b[38;5;241m.\u001b[39mmodel\n\u001b[1;32m     30\u001b[0m     \u001b[38;5;66;03m# Remove config elements that are redundant to MLPlanner\u001b[39;00m\n",
      "File \u001b[0;32m~/nuplan-devkit/nuplan/planning/script/builders/model_builder.py:19\u001b[0m, in \u001b[0;36mbuild_torch_module_wrapper\u001b[0;34m(cfg)\u001b[0m\n\u001b[1;32m     13\u001b[0m \u001b[38;5;250m\u001b[39m\u001b[38;5;124;03m\"\"\"\u001b[39;00m\n\u001b[1;32m     14\u001b[0m \u001b[38;5;124;03mBuilds the NN module.\u001b[39;00m\n\u001b[1;32m     15\u001b[0m \u001b[38;5;124;03m:param cfg: DictConfig. Configuration that is used to run the experiment.\u001b[39;00m\n\u001b[1;32m     16\u001b[0m \u001b[38;5;124;03m:return: Instance of TorchModuleWrapper.\u001b[39;00m\n\u001b[1;32m     17\u001b[0m \u001b[38;5;124;03m\"\"\"\u001b[39;00m\n\u001b[1;32m     18\u001b[0m logger\u001b[38;5;241m.\u001b[39minfo(\u001b[38;5;124m'\u001b[39m\u001b[38;5;124mBuilding TorchModuleWrapper...\u001b[39m\u001b[38;5;124m'\u001b[39m)\n\u001b[0;32m---> 19\u001b[0m model \u001b[38;5;241m=\u001b[39m \u001b[43minstantiate\u001b[49m\u001b[43m(\u001b[49m\u001b[43mcfg\u001b[49m\u001b[43m)\u001b[49m\n\u001b[1;32m     20\u001b[0m validate_type(model, TorchModuleWrapper)\n\u001b[1;32m     21\u001b[0m logger\u001b[38;5;241m.\u001b[39minfo(\u001b[38;5;124m'\u001b[39m\u001b[38;5;124mBuilding TorchModuleWrapper...DONE!\u001b[39m\u001b[38;5;124m'\u001b[39m)\n",
      "File \u001b[0;32m~/anaconda3/envs/nuplan/lib/python3.9/site-packages/hydra/_internal/instantiate/_instantiate2.py:182\u001b[0m, in \u001b[0;36minstantiate\u001b[0;34m(config, *args, **kwargs)\u001b[0m\n\u001b[1;32m    180\u001b[0m     \u001b[38;5;28;01mreturn\u001b[39;00m instantiate_node(config, \u001b[38;5;241m*\u001b[39margs, recursive\u001b[38;5;241m=\u001b[39m_recursive_, convert\u001b[38;5;241m=\u001b[39m_convert_)\n\u001b[1;32m    181\u001b[0m \u001b[38;5;28;01melse\u001b[39;00m:\n\u001b[0;32m--> 182\u001b[0m     \u001b[38;5;28;01mraise\u001b[39;00m InstantiationException(\n\u001b[1;32m    183\u001b[0m         \u001b[38;5;124m\"\u001b[39m\u001b[38;5;124mTop level config has to be OmegaConf DictConfig, plain dict, or a Structured Config class or instance\u001b[39m\u001b[38;5;124m\"\u001b[39m\n\u001b[1;32m    184\u001b[0m     )\n",
      "\u001b[0;31mInstantiationException\u001b[0m: Top level config has to be OmegaConf DictConfig, plain dict, or a Structured Config class or instance"
     ]
    }
   ],
   "source": [
    "from nuplan.planning.script.run_simulation import main as main_simulation\n",
    "\n",
    "# Run the simulation loop (real-time visualization not yet supported, see next section for visualization)\n",
    "main_simulation(cfg)\n",
    "\n",
    "# Simple simulation folder for visualization in nuBoard\n",
    "simple_simulation_folder = cfg.output_dir"
   ]
  },
  {
   "cell_type": "markdown",
   "id": "8b6c1fb9",
   "metadata": {},
   "source": [
    "## Launch simulation (command line - alternative)"
   ]
  },
  {
   "cell_type": "markdown",
   "id": "cc9b23af",
   "metadata": {},
   "source": [
    "A simulation experiment can be launched alternatively with:\n",
    "```\n",
    "$ python nuplan/planning/script/run_simulation.py \\\n",
    "    +simulation=open_loop_boxes \\\n",
    "    planner=simple_planner \\\n",
    "    scenario_builder=nuplan_mini \\\n",
    "    scenario_filter=all_scenarios \\\n",
    "    scenario_filter.scenario_types=\"[near_multiple_vehicles, on_pickup_dropoff, starting_unprotected_cross_turn, high_magnitude_jerk]\" \\\n",
    "    scenario_filter.num_scenarios_per_type=10 \\\n",
    "```"
   ]
  },
  {
   "cell_type": "markdown",
   "id": "557a181f",
   "metadata": {},
   "source": [
    "## Simulate a trained ML planner for comparison\n",
    "\n",
    "Using the same simulation settings as before, we can simulate a pretrained ML planner and compare the two.\n",
    "\n",
    "In this example you can take the model you trained earlier."
   ]
  },
  {
   "cell_type": "code",
   "execution_count": 17,
   "id": "2825252a-cdeb-43c9-96d2-9bf7457b262e",
   "metadata": {},
   "outputs": [
    {
     "data": {
      "text/plain": [
       "PosixPath('/tmp/tutorial_nuplan_framework/training_raster_experiment/train_default_raster/2024.03.17.15.20.20/checkpoints/epoch=9.ckpt')"
      ]
     },
     "execution_count": 17,
     "metadata": {},
     "output_type": "execute_result"
    }
   ],
   "source": [
    "checkpoint"
   ]
  },
  {
   "cell_type": "code",
   "execution_count": 18,
   "id": "a9613e6f-4f4a-4031-8103-db3e51b09176",
   "metadata": {},
   "outputs": [
    {
     "data": {
      "text/plain": [
       "'/tmp/tutorial_nuplan_framework/training_raster_experiment/train_default_raster/2024.03.17.15.20.20/checkpoints/epoch\\\\=9.ckpt'"
      ]
     },
     "execution_count": 18,
     "metadata": {},
     "output_type": "execute_result"
    }
   ],
   "source": [
    "MODEL_PATH"
   ]
  },
  {
   "cell_type": "code",
   "execution_count": 23,
   "id": "e5b6907c-f7f8-4546-aea2-38054be028a4",
   "metadata": {},
   "outputs": [
    {
     "data": {
      "text/plain": [
       "PosixPath('/tmp/tutorial_nuplan_framework/training_raster_experiment/train_default_raster')"
      ]
     },
     "execution_count": 23,
     "metadata": {},
     "output_type": "execute_result"
    }
   ],
   "source": [
    "LOG_DIR"
   ]
  },
  {
   "cell_type": "code",
   "execution_count": 16,
   "id": "ba4dc68c",
   "metadata": {
    "pycharm": {
     "name": "#%%\n"
    }
   },
   "outputs": [
    {
     "name": "stderr",
     "output_type": "stream",
     "text": [
      "Global seed set to 0\n"
     ]
    },
    {
     "name": "stdout",
     "output_type": "stream",
     "text": [
      "2024-03-17 15:23:55,209 INFO {/home/dabin/nuplan-devkit/nuplan/planning/script/builders/main_callback_builder.py:20}  Building MultiMainCallback...\n",
      "2024-03-17 15:23:55,223 INFO {/home/dabin/nuplan-devkit/nuplan/planning/script/builders/main_callback_builder.py:35}  Building MultiMainCallback: 4...DONE!\n",
      "2024-03-17 15:23:55,356 INFO {/home/dabin/nuplan-devkit/nuplan/planning/script/builders/worker_pool_builder.py:19}  Building WorkerPool...\n",
      "2024-03-17 15:23:55,356 INFO {/home/dabin/nuplan-devkit/nuplan/planning/script/builders/worker_pool_builder.py:19}  Building WorkerPool...\n",
      "2024-03-17 15:23:55,357 WARNING {/home/dabin/nuplan-devkit/nuplan/planning/utils/multithreading/worker_ray.py:135}  Ray is running, we will shut it down before starting again!\n",
      "2024-03-17 15:23:55,357 WARNING {/home/dabin/nuplan-devkit/nuplan/planning/utils/multithreading/worker_ray.py:135}  Ray is running, we will shut it down before starting again!\n",
      "2024-03-17 15:23:56,585 INFO {/home/dabin/nuplan-devkit/nuplan/planning/utils/multithreading/worker_ray.py:78}  Starting ray local!\n",
      "2024-03-17 15:23:56,585 INFO {/home/dabin/nuplan-devkit/nuplan/planning/utils/multithreading/worker_ray.py:78}  Starting ray local!\n"
     ]
    },
    {
     "name": "stderr",
     "output_type": "stream",
     "text": [
      "2024-03-17 15:23:58,286\tINFO worker.py:1724 -- Started a local Ray instance.\n"
     ]
    },
    {
     "name": "stdout",
     "output_type": "stream",
     "text": [
      "2024-03-17 15:23:58,809 INFO {/home/dabin/nuplan-devkit/nuplan/planning/utils/multithreading/worker_pool.py:101}  Worker: RayDistributed\n",
      "2024-03-17 15:23:58,809 INFO {/home/dabin/nuplan-devkit/nuplan/planning/utils/multithreading/worker_pool.py:101}  Worker: RayDistributed\n",
      "2024-03-17 15:23:58,809 INFO {/home/dabin/nuplan-devkit/nuplan/planning/utils/multithreading/worker_pool.py:102}  Number of nodes: 1\n",
      "Number of CPUs per node: 24\n",
      "Number of GPUs per node: 1\n",
      "Number of threads across all nodes: 24\n",
      "2024-03-17 15:23:58,809 INFO {/home/dabin/nuplan-devkit/nuplan/planning/utils/multithreading/worker_pool.py:102}  Number of nodes: 1\n",
      "Number of CPUs per node: 24\n",
      "Number of GPUs per node: 1\n",
      "Number of threads across all nodes: 24\n",
      "2024-03-17 15:23:58,809 INFO {/home/dabin/nuplan-devkit/nuplan/planning/script/builders/worker_pool_builder.py:27}  Building WorkerPool...DONE!\n",
      "2024-03-17 15:23:58,809 INFO {/home/dabin/nuplan-devkit/nuplan/planning/script/builders/worker_pool_builder.py:27}  Building WorkerPool...DONE!\n",
      "2024-03-17 15:23:58,810 INFO {/home/dabin/nuplan-devkit/nuplan/planning/script/builders/folder_builder.py:32}  Building experiment folders...\n",
      "2024-03-17 15:23:58,810 INFO {/home/dabin/nuplan-devkit/nuplan/planning/script/builders/folder_builder.py:32}  Building experiment folders...\n",
      "2024-03-17 15:23:58,810 INFO {/home/dabin/nuplan-devkit/nuplan/planning/script/builders/folder_builder.py:35}  \n",
      "\n",
      "\tFolder where all results are stored: /tmp/tutorial_nuplan_framework/simulation_raster_experiment/open_loop_boxes/2024.03.17.15.23.55\n",
      "\n",
      "2024-03-17 15:23:58,810 INFO {/home/dabin/nuplan-devkit/nuplan/planning/script/builders/folder_builder.py:35}  \n",
      "\n",
      "\tFolder where all results are stored: /tmp/tutorial_nuplan_framework/simulation_raster_experiment/open_loop_boxes/2024.03.17.15.23.55\n",
      "\n",
      "2024-03-17 15:23:58,811 INFO {/home/dabin/nuplan-devkit/nuplan/planning/script/builders/folder_builder.py:70}  Building experiment folders...DONE!\n",
      "2024-03-17 15:23:58,811 INFO {/home/dabin/nuplan-devkit/nuplan/planning/script/builders/folder_builder.py:70}  Building experiment folders...DONE!\n",
      "2024-03-17 15:23:58,812 INFO {/home/dabin/nuplan-devkit/nuplan/planning/script/builders/simulation_callback_builder.py:52}  Building AbstractCallback...\n",
      "2024-03-17 15:23:58,812 INFO {/home/dabin/nuplan-devkit/nuplan/planning/script/builders/simulation_callback_builder.py:52}  Building AbstractCallback...\n",
      "2024-03-17 15:23:58,812 INFO {/home/dabin/nuplan-devkit/nuplan/planning/script/builders/simulation_callback_builder.py:68}  Building AbstractCallback: 0...DONE!\n",
      "2024-03-17 15:23:58,812 INFO {/home/dabin/nuplan-devkit/nuplan/planning/script/builders/simulation_callback_builder.py:68}  Building AbstractCallback: 0...DONE!\n",
      "2024-03-17 15:23:58,812 INFO {/home/dabin/nuplan-devkit/nuplan/planning/script/builders/simulation_builder.py:47}  Building simulations...\n",
      "2024-03-17 15:23:58,812 INFO {/home/dabin/nuplan-devkit/nuplan/planning/script/builders/simulation_builder.py:47}  Building simulations...\n",
      "2024-03-17 15:23:58,812 INFO {/home/dabin/nuplan-devkit/nuplan/planning/script/builders/simulation_builder.py:53}  Extracting scenarios...\n",
      "2024-03-17 15:23:58,812 INFO {/home/dabin/nuplan-devkit/nuplan/planning/script/builders/simulation_builder.py:53}  Extracting scenarios...\n",
      "2024-03-17 15:23:58,812 INFO {/home/dabin/nuplan-devkit/nuplan/common/utils/distributed_scenario_filter.py:83}  Building Scenarios in mode DistributedMode.SINGLE_NODE\n",
      "2024-03-17 15:23:58,812 INFO {/home/dabin/nuplan-devkit/nuplan/common/utils/distributed_scenario_filter.py:83}  Building Scenarios in mode DistributedMode.SINGLE_NODE\n",
      "2024-03-17 15:23:58,812 INFO {/home/dabin/nuplan-devkit/nuplan/planning/script/builders/scenario_building_builder.py:18}  Building AbstractScenarioBuilder...\n",
      "2024-03-17 15:23:58,812 INFO {/home/dabin/nuplan-devkit/nuplan/planning/script/builders/scenario_building_builder.py:18}  Building AbstractScenarioBuilder...\n",
      "2024-03-17 15:23:58,827 INFO {/home/dabin/nuplan-devkit/nuplan/planning/script/builders/scenario_building_builder.py:21}  Building AbstractScenarioBuilder...DONE!\n",
      "2024-03-17 15:23:58,827 INFO {/home/dabin/nuplan-devkit/nuplan/planning/script/builders/scenario_building_builder.py:21}  Building AbstractScenarioBuilder...DONE!\n",
      "2024-03-17 15:23:58,827 INFO {/home/dabin/nuplan-devkit/nuplan/planning/script/builders/scenario_filter_builder.py:35}  Building ScenarioFilter...\n",
      "2024-03-17 15:23:58,827 INFO {/home/dabin/nuplan-devkit/nuplan/planning/script/builders/scenario_filter_builder.py:35}  Building ScenarioFilter...\n",
      "2024-03-17 15:23:58,828 INFO {/home/dabin/nuplan-devkit/nuplan/planning/script/builders/scenario_filter_builder.py:44}  Building ScenarioFilter...DONE!\n",
      "2024-03-17 15:23:58,828 INFO {/home/dabin/nuplan-devkit/nuplan/planning/script/builders/scenario_filter_builder.py:44}  Building ScenarioFilter...DONE!\n"
     ]
    },
    {
     "name": "stderr",
     "output_type": "stream",
     "text": [
      "Ray objects: 100%|██████████████████████████████████████████████████████| 24/24 [00:01<00:00, 12.55it/s]\n"
     ]
    },
    {
     "name": "stdout",
     "output_type": "stream",
     "text": [
      "2024-03-17 15:24:00,770 INFO {/home/dabin/nuplan-devkit/nuplan/planning/script/builders/simulation_builder.py:74}  Building metric engines...\n",
      "2024-03-17 15:24:00,770 INFO {/home/dabin/nuplan-devkit/nuplan/planning/script/builders/simulation_builder.py:74}  Building metric engines...\n",
      "2024-03-17 15:24:00,786 INFO {/home/dabin/nuplan-devkit/nuplan/planning/script/builders/simulation_builder.py:76}  Building metric engines...DONE\n",
      "2024-03-17 15:24:00,786 INFO {/home/dabin/nuplan-devkit/nuplan/planning/script/builders/simulation_builder.py:76}  Building metric engines...DONE\n",
      "2024-03-17 15:24:00,786 INFO {/home/dabin/nuplan-devkit/nuplan/planning/script/builders/simulation_builder.py:80}  Building simulations from 31 scenarios...\n",
      "2024-03-17 15:24:00,786 INFO {/home/dabin/nuplan-devkit/nuplan/planning/script/builders/simulation_builder.py:80}  Building simulations from 31 scenarios...\n",
      "2024-03-17 15:24:00,787 INFO {/home/dabin/nuplan-devkit/nuplan/planning/script/builders/model_builder.py:18}  Building TorchModuleWrapper...\n",
      "2024-03-17 15:24:00,787 INFO {/home/dabin/nuplan-devkit/nuplan/planning/script/builders/model_builder.py:18}  Building TorchModuleWrapper...\n",
      "2024-03-17 15:24:00,921 INFO {/home/dabin/anaconda3/envs/nuplan/lib/python3.9/site-packages/timm/models/_builder.py:186}  Loading pretrained weights from Hugging Face hub (timm/resnet50.a1_in1k)\n",
      "2024-03-17 15:24:00,921 INFO {/home/dabin/anaconda3/envs/nuplan/lib/python3.9/site-packages/timm/models/_builder.py:186}  Loading pretrained weights from Hugging Face hub (timm/resnet50.a1_in1k)\n",
      "2024-03-17 15:24:01,128 INFO {/home/dabin/anaconda3/envs/nuplan/lib/python3.9/site-packages/timm/models/_hub.py:180}  [timm/resnet50.a1_in1k] Safe alternative available for 'pytorch_model.bin' (as 'model.safetensors'). Loading weights using safetensors.\n",
      "2024-03-17 15:24:01,128 INFO {/home/dabin/anaconda3/envs/nuplan/lib/python3.9/site-packages/timm/models/_hub.py:180}  [timm/resnet50.a1_in1k] Safe alternative available for 'pytorch_model.bin' (as 'model.safetensors'). Loading weights using safetensors.\n",
      "2024-03-17 15:24:01,156 INFO {/home/dabin/anaconda3/envs/nuplan/lib/python3.9/site-packages/timm/models/_builder.py:210}  Converted input conv conv1 pretrained weights from 3 to 4 channel(s)\n",
      "2024-03-17 15:24:01,156 INFO {/home/dabin/anaconda3/envs/nuplan/lib/python3.9/site-packages/timm/models/_builder.py:210}  Converted input conv conv1 pretrained weights from 3 to 4 channel(s)\n",
      "2024-03-17 15:24:01,168 INFO {/home/dabin/nuplan-devkit/nuplan/planning/script/builders/model_builder.py:21}  Building TorchModuleWrapper...DONE!\n",
      "2024-03-17 15:24:01,168 INFO {/home/dabin/nuplan-devkit/nuplan/planning/script/builders/model_builder.py:21}  Building TorchModuleWrapper...DONE!\n",
      "2024-03-17 15:24:01,473 INFO {/home/dabin/nuplan-devkit/nuplan/planning/script/builders/model_builder.py:18}  Building TorchModuleWrapper...\n",
      "2024-03-17 15:24:01,473 INFO {/home/dabin/nuplan-devkit/nuplan/planning/script/builders/model_builder.py:18}  Building TorchModuleWrapper...\n",
      "2024-03-17 15:24:01,595 INFO {/home/dabin/anaconda3/envs/nuplan/lib/python3.9/site-packages/timm/models/_builder.py:186}  Loading pretrained weights from Hugging Face hub (timm/resnet50.a1_in1k)\n",
      "2024-03-17 15:24:01,595 INFO {/home/dabin/anaconda3/envs/nuplan/lib/python3.9/site-packages/timm/models/_builder.py:186}  Loading pretrained weights from Hugging Face hub (timm/resnet50.a1_in1k)\n",
      "2024-03-17 15:24:01,859 INFO {/home/dabin/anaconda3/envs/nuplan/lib/python3.9/site-packages/timm/models/_hub.py:180}  [timm/resnet50.a1_in1k] Safe alternative available for 'pytorch_model.bin' (as 'model.safetensors'). Loading weights using safetensors.\n",
      "2024-03-17 15:24:01,859 INFO {/home/dabin/anaconda3/envs/nuplan/lib/python3.9/site-packages/timm/models/_hub.py:180}  [timm/resnet50.a1_in1k] Safe alternative available for 'pytorch_model.bin' (as 'model.safetensors'). Loading weights using safetensors.\n",
      "2024-03-17 15:24:01,882 INFO {/home/dabin/anaconda3/envs/nuplan/lib/python3.9/site-packages/timm/models/_builder.py:210}  Converted input conv conv1 pretrained weights from 3 to 4 channel(s)\n",
      "2024-03-17 15:24:01,882 INFO {/home/dabin/anaconda3/envs/nuplan/lib/python3.9/site-packages/timm/models/_builder.py:210}  Converted input conv conv1 pretrained weights from 3 to 4 channel(s)\n",
      "2024-03-17 15:24:01,894 INFO {/home/dabin/nuplan-devkit/nuplan/planning/script/builders/model_builder.py:21}  Building TorchModuleWrapper...DONE!\n",
      "2024-03-17 15:24:01,894 INFO {/home/dabin/nuplan-devkit/nuplan/planning/script/builders/model_builder.py:21}  Building TorchModuleWrapper...DONE!\n",
      "2024-03-17 15:24:02,015 INFO {/home/dabin/nuplan-devkit/nuplan/planning/script/builders/model_builder.py:18}  Building TorchModuleWrapper...\n",
      "2024-03-17 15:24:02,015 INFO {/home/dabin/nuplan-devkit/nuplan/planning/script/builders/model_builder.py:18}  Building TorchModuleWrapper...\n",
      "2024-03-17 15:24:02,135 INFO {/home/dabin/anaconda3/envs/nuplan/lib/python3.9/site-packages/timm/models/_builder.py:186}  Loading pretrained weights from Hugging Face hub (timm/resnet50.a1_in1k)\n",
      "2024-03-17 15:24:02,135 INFO {/home/dabin/anaconda3/envs/nuplan/lib/python3.9/site-packages/timm/models/_builder.py:186}  Loading pretrained weights from Hugging Face hub (timm/resnet50.a1_in1k)\n",
      "2024-03-17 15:24:02,363 INFO {/home/dabin/anaconda3/envs/nuplan/lib/python3.9/site-packages/timm/models/_hub.py:180}  [timm/resnet50.a1_in1k] Safe alternative available for 'pytorch_model.bin' (as 'model.safetensors'). Loading weights using safetensors.\n",
      "2024-03-17 15:24:02,363 INFO {/home/dabin/anaconda3/envs/nuplan/lib/python3.9/site-packages/timm/models/_hub.py:180}  [timm/resnet50.a1_in1k] Safe alternative available for 'pytorch_model.bin' (as 'model.safetensors'). Loading weights using safetensors.\n",
      "2024-03-17 15:24:02,390 INFO {/home/dabin/anaconda3/envs/nuplan/lib/python3.9/site-packages/timm/models/_builder.py:210}  Converted input conv conv1 pretrained weights from 3 to 4 channel(s)\n",
      "2024-03-17 15:24:02,390 INFO {/home/dabin/anaconda3/envs/nuplan/lib/python3.9/site-packages/timm/models/_builder.py:210}  Converted input conv conv1 pretrained weights from 3 to 4 channel(s)\n",
      "2024-03-17 15:24:02,405 INFO {/home/dabin/nuplan-devkit/nuplan/planning/script/builders/model_builder.py:21}  Building TorchModuleWrapper...DONE!\n",
      "2024-03-17 15:24:02,405 INFO {/home/dabin/nuplan-devkit/nuplan/planning/script/builders/model_builder.py:21}  Building TorchModuleWrapper...DONE!\n",
      "2024-03-17 15:24:02,765 INFO {/home/dabin/nuplan-devkit/nuplan/planning/script/builders/model_builder.py:18}  Building TorchModuleWrapper...\n",
      "2024-03-17 15:24:02,765 INFO {/home/dabin/nuplan-devkit/nuplan/planning/script/builders/model_builder.py:18}  Building TorchModuleWrapper...\n",
      "2024-03-17 15:24:02,885 INFO {/home/dabin/anaconda3/envs/nuplan/lib/python3.9/site-packages/timm/models/_builder.py:186}  Loading pretrained weights from Hugging Face hub (timm/resnet50.a1_in1k)\n",
      "2024-03-17 15:24:02,885 INFO {/home/dabin/anaconda3/envs/nuplan/lib/python3.9/site-packages/timm/models/_builder.py:186}  Loading pretrained weights from Hugging Face hub (timm/resnet50.a1_in1k)\n",
      "2024-03-17 15:24:03,122 INFO {/home/dabin/anaconda3/envs/nuplan/lib/python3.9/site-packages/timm/models/_hub.py:180}  [timm/resnet50.a1_in1k] Safe alternative available for 'pytorch_model.bin' (as 'model.safetensors'). Loading weights using safetensors.\n",
      "2024-03-17 15:24:03,122 INFO {/home/dabin/anaconda3/envs/nuplan/lib/python3.9/site-packages/timm/models/_hub.py:180}  [timm/resnet50.a1_in1k] Safe alternative available for 'pytorch_model.bin' (as 'model.safetensors'). Loading weights using safetensors.\n",
      "2024-03-17 15:24:03,147 INFO {/home/dabin/anaconda3/envs/nuplan/lib/python3.9/site-packages/timm/models/_builder.py:210}  Converted input conv conv1 pretrained weights from 3 to 4 channel(s)\n",
      "2024-03-17 15:24:03,147 INFO {/home/dabin/anaconda3/envs/nuplan/lib/python3.9/site-packages/timm/models/_builder.py:210}  Converted input conv conv1 pretrained weights from 3 to 4 channel(s)\n",
      "2024-03-17 15:24:03,157 INFO {/home/dabin/nuplan-devkit/nuplan/planning/script/builders/model_builder.py:21}  Building TorchModuleWrapper...DONE!\n",
      "2024-03-17 15:24:03,157 INFO {/home/dabin/nuplan-devkit/nuplan/planning/script/builders/model_builder.py:21}  Building TorchModuleWrapper...DONE!\n",
      "2024-03-17 15:24:03,276 INFO {/home/dabin/nuplan-devkit/nuplan/planning/script/builders/model_builder.py:18}  Building TorchModuleWrapper...\n",
      "2024-03-17 15:24:03,276 INFO {/home/dabin/nuplan-devkit/nuplan/planning/script/builders/model_builder.py:18}  Building TorchModuleWrapper...\n",
      "2024-03-17 15:24:03,396 INFO {/home/dabin/anaconda3/envs/nuplan/lib/python3.9/site-packages/timm/models/_builder.py:186}  Loading pretrained weights from Hugging Face hub (timm/resnet50.a1_in1k)\n",
      "2024-03-17 15:24:03,396 INFO {/home/dabin/anaconda3/envs/nuplan/lib/python3.9/site-packages/timm/models/_builder.py:186}  Loading pretrained weights from Hugging Face hub (timm/resnet50.a1_in1k)\n",
      "2024-03-17 15:24:03,608 INFO {/home/dabin/anaconda3/envs/nuplan/lib/python3.9/site-packages/timm/models/_hub.py:180}  [timm/resnet50.a1_in1k] Safe alternative available for 'pytorch_model.bin' (as 'model.safetensors'). Loading weights using safetensors.\n",
      "2024-03-17 15:24:03,608 INFO {/home/dabin/anaconda3/envs/nuplan/lib/python3.9/site-packages/timm/models/_hub.py:180}  [timm/resnet50.a1_in1k] Safe alternative available for 'pytorch_model.bin' (as 'model.safetensors'). Loading weights using safetensors.\n",
      "2024-03-17 15:24:03,625 INFO {/home/dabin/anaconda3/envs/nuplan/lib/python3.9/site-packages/timm/models/_builder.py:210}  Converted input conv conv1 pretrained weights from 3 to 4 channel(s)\n",
      "2024-03-17 15:24:03,625 INFO {/home/dabin/anaconda3/envs/nuplan/lib/python3.9/site-packages/timm/models/_builder.py:210}  Converted input conv conv1 pretrained weights from 3 to 4 channel(s)\n",
      "2024-03-17 15:24:03,635 INFO {/home/dabin/nuplan-devkit/nuplan/planning/script/builders/model_builder.py:21}  Building TorchModuleWrapper...DONE!\n",
      "2024-03-17 15:24:03,635 INFO {/home/dabin/nuplan-devkit/nuplan/planning/script/builders/model_builder.py:21}  Building TorchModuleWrapper...DONE!\n",
      "2024-03-17 15:24:04,023 INFO {/home/dabin/nuplan-devkit/nuplan/planning/script/builders/model_builder.py:18}  Building TorchModuleWrapper...\n",
      "2024-03-17 15:24:04,023 INFO {/home/dabin/nuplan-devkit/nuplan/planning/script/builders/model_builder.py:18}  Building TorchModuleWrapper...\n",
      "2024-03-17 15:24:04,142 INFO {/home/dabin/anaconda3/envs/nuplan/lib/python3.9/site-packages/timm/models/_builder.py:186}  Loading pretrained weights from Hugging Face hub (timm/resnet50.a1_in1k)\n",
      "2024-03-17 15:24:04,142 INFO {/home/dabin/anaconda3/envs/nuplan/lib/python3.9/site-packages/timm/models/_builder.py:186}  Loading pretrained weights from Hugging Face hub (timm/resnet50.a1_in1k)\n",
      "2024-03-17 15:24:04,353 INFO {/home/dabin/anaconda3/envs/nuplan/lib/python3.9/site-packages/timm/models/_hub.py:180}  [timm/resnet50.a1_in1k] Safe alternative available for 'pytorch_model.bin' (as 'model.safetensors'). Loading weights using safetensors.\n",
      "2024-03-17 15:24:04,353 INFO {/home/dabin/anaconda3/envs/nuplan/lib/python3.9/site-packages/timm/models/_hub.py:180}  [timm/resnet50.a1_in1k] Safe alternative available for 'pytorch_model.bin' (as 'model.safetensors'). Loading weights using safetensors.\n",
      "2024-03-17 15:24:04,367 INFO {/home/dabin/anaconda3/envs/nuplan/lib/python3.9/site-packages/timm/models/_builder.py:210}  Converted input conv conv1 pretrained weights from 3 to 4 channel(s)\n",
      "2024-03-17 15:24:04,367 INFO {/home/dabin/anaconda3/envs/nuplan/lib/python3.9/site-packages/timm/models/_builder.py:210}  Converted input conv conv1 pretrained weights from 3 to 4 channel(s)\n",
      "2024-03-17 15:24:04,377 INFO {/home/dabin/nuplan-devkit/nuplan/planning/script/builders/model_builder.py:21}  Building TorchModuleWrapper...DONE!\n",
      "2024-03-17 15:24:04,377 INFO {/home/dabin/nuplan-devkit/nuplan/planning/script/builders/model_builder.py:21}  Building TorchModuleWrapper...DONE!\n",
      "2024-03-17 15:24:04,692 INFO {/home/dabin/nuplan-devkit/nuplan/planning/script/builders/model_builder.py:18}  Building TorchModuleWrapper...\n",
      "2024-03-17 15:24:04,692 INFO {/home/dabin/nuplan-devkit/nuplan/planning/script/builders/model_builder.py:18}  Building TorchModuleWrapper...\n",
      "2024-03-17 15:24:04,814 INFO {/home/dabin/anaconda3/envs/nuplan/lib/python3.9/site-packages/timm/models/_builder.py:186}  Loading pretrained weights from Hugging Face hub (timm/resnet50.a1_in1k)\n",
      "2024-03-17 15:24:04,814 INFO {/home/dabin/anaconda3/envs/nuplan/lib/python3.9/site-packages/timm/models/_builder.py:186}  Loading pretrained weights from Hugging Face hub (timm/resnet50.a1_in1k)\n",
      "2024-03-17 15:24:05,028 INFO {/home/dabin/anaconda3/envs/nuplan/lib/python3.9/site-packages/timm/models/_hub.py:180}  [timm/resnet50.a1_in1k] Safe alternative available for 'pytorch_model.bin' (as 'model.safetensors'). Loading weights using safetensors.\n",
      "2024-03-17 15:24:05,028 INFO {/home/dabin/anaconda3/envs/nuplan/lib/python3.9/site-packages/timm/models/_hub.py:180}  [timm/resnet50.a1_in1k] Safe alternative available for 'pytorch_model.bin' (as 'model.safetensors'). Loading weights using safetensors.\n",
      "2024-03-17 15:24:05,044 INFO {/home/dabin/anaconda3/envs/nuplan/lib/python3.9/site-packages/timm/models/_builder.py:210}  Converted input conv conv1 pretrained weights from 3 to 4 channel(s)\n",
      "2024-03-17 15:24:05,044 INFO {/home/dabin/anaconda3/envs/nuplan/lib/python3.9/site-packages/timm/models/_builder.py:210}  Converted input conv conv1 pretrained weights from 3 to 4 channel(s)\n",
      "2024-03-17 15:24:05,055 INFO {/home/dabin/nuplan-devkit/nuplan/planning/script/builders/model_builder.py:21}  Building TorchModuleWrapper...DONE!\n",
      "2024-03-17 15:24:05,055 INFO {/home/dabin/nuplan-devkit/nuplan/planning/script/builders/model_builder.py:21}  Building TorchModuleWrapper...DONE!\n",
      "2024-03-17 15:24:05,181 INFO {/home/dabin/nuplan-devkit/nuplan/planning/script/builders/model_builder.py:18}  Building TorchModuleWrapper...\n",
      "2024-03-17 15:24:05,181 INFO {/home/dabin/nuplan-devkit/nuplan/planning/script/builders/model_builder.py:18}  Building TorchModuleWrapper...\n",
      "2024-03-17 15:24:05,304 INFO {/home/dabin/anaconda3/envs/nuplan/lib/python3.9/site-packages/timm/models/_builder.py:186}  Loading pretrained weights from Hugging Face hub (timm/resnet50.a1_in1k)\n",
      "2024-03-17 15:24:05,304 INFO {/home/dabin/anaconda3/envs/nuplan/lib/python3.9/site-packages/timm/models/_builder.py:186}  Loading pretrained weights from Hugging Face hub (timm/resnet50.a1_in1k)\n",
      "2024-03-17 15:24:05,547 INFO {/home/dabin/anaconda3/envs/nuplan/lib/python3.9/site-packages/timm/models/_hub.py:180}  [timm/resnet50.a1_in1k] Safe alternative available for 'pytorch_model.bin' (as 'model.safetensors'). Loading weights using safetensors.\n",
      "2024-03-17 15:24:05,547 INFO {/home/dabin/anaconda3/envs/nuplan/lib/python3.9/site-packages/timm/models/_hub.py:180}  [timm/resnet50.a1_in1k] Safe alternative available for 'pytorch_model.bin' (as 'model.safetensors'). Loading weights using safetensors.\n",
      "2024-03-17 15:24:05,569 INFO {/home/dabin/anaconda3/envs/nuplan/lib/python3.9/site-packages/timm/models/_builder.py:210}  Converted input conv conv1 pretrained weights from 3 to 4 channel(s)\n",
      "2024-03-17 15:24:05,569 INFO {/home/dabin/anaconda3/envs/nuplan/lib/python3.9/site-packages/timm/models/_builder.py:210}  Converted input conv conv1 pretrained weights from 3 to 4 channel(s)\n",
      "2024-03-17 15:24:05,580 INFO {/home/dabin/nuplan-devkit/nuplan/planning/script/builders/model_builder.py:21}  Building TorchModuleWrapper...DONE!\n",
      "2024-03-17 15:24:05,580 INFO {/home/dabin/nuplan-devkit/nuplan/planning/script/builders/model_builder.py:21}  Building TorchModuleWrapper...DONE!\n",
      "2024-03-17 15:24:05,931 INFO {/home/dabin/nuplan-devkit/nuplan/planning/script/builders/model_builder.py:18}  Building TorchModuleWrapper...\n",
      "2024-03-17 15:24:05,931 INFO {/home/dabin/nuplan-devkit/nuplan/planning/script/builders/model_builder.py:18}  Building TorchModuleWrapper...\n",
      "2024-03-17 15:24:06,050 INFO {/home/dabin/anaconda3/envs/nuplan/lib/python3.9/site-packages/timm/models/_builder.py:186}  Loading pretrained weights from Hugging Face hub (timm/resnet50.a1_in1k)\n",
      "2024-03-17 15:24:06,050 INFO {/home/dabin/anaconda3/envs/nuplan/lib/python3.9/site-packages/timm/models/_builder.py:186}  Loading pretrained weights from Hugging Face hub (timm/resnet50.a1_in1k)\n",
      "2024-03-17 15:24:06,483 INFO {/home/dabin/anaconda3/envs/nuplan/lib/python3.9/site-packages/timm/models/_hub.py:180}  [timm/resnet50.a1_in1k] Safe alternative available for 'pytorch_model.bin' (as 'model.safetensors'). Loading weights using safetensors.\n",
      "2024-03-17 15:24:06,483 INFO {/home/dabin/anaconda3/envs/nuplan/lib/python3.9/site-packages/timm/models/_hub.py:180}  [timm/resnet50.a1_in1k] Safe alternative available for 'pytorch_model.bin' (as 'model.safetensors'). Loading weights using safetensors.\n",
      "2024-03-17 15:24:06,500 INFO {/home/dabin/anaconda3/envs/nuplan/lib/python3.9/site-packages/timm/models/_builder.py:210}  Converted input conv conv1 pretrained weights from 3 to 4 channel(s)\n",
      "2024-03-17 15:24:06,500 INFO {/home/dabin/anaconda3/envs/nuplan/lib/python3.9/site-packages/timm/models/_builder.py:210}  Converted input conv conv1 pretrained weights from 3 to 4 channel(s)\n",
      "2024-03-17 15:24:06,510 INFO {/home/dabin/nuplan-devkit/nuplan/planning/script/builders/model_builder.py:21}  Building TorchModuleWrapper...DONE!\n",
      "2024-03-17 15:24:06,510 INFO {/home/dabin/nuplan-devkit/nuplan/planning/script/builders/model_builder.py:21}  Building TorchModuleWrapper...DONE!\n",
      "2024-03-17 15:24:06,638 INFO {/home/dabin/nuplan-devkit/nuplan/planning/script/builders/model_builder.py:18}  Building TorchModuleWrapper...\n",
      "2024-03-17 15:24:06,638 INFO {/home/dabin/nuplan-devkit/nuplan/planning/script/builders/model_builder.py:18}  Building TorchModuleWrapper...\n",
      "2024-03-17 15:24:06,760 INFO {/home/dabin/anaconda3/envs/nuplan/lib/python3.9/site-packages/timm/models/_builder.py:186}  Loading pretrained weights from Hugging Face hub (timm/resnet50.a1_in1k)\n",
      "2024-03-17 15:24:06,760 INFO {/home/dabin/anaconda3/envs/nuplan/lib/python3.9/site-packages/timm/models/_builder.py:186}  Loading pretrained weights from Hugging Face hub (timm/resnet50.a1_in1k)\n",
      "2024-03-17 15:24:06,971 INFO {/home/dabin/anaconda3/envs/nuplan/lib/python3.9/site-packages/timm/models/_hub.py:180}  [timm/resnet50.a1_in1k] Safe alternative available for 'pytorch_model.bin' (as 'model.safetensors'). Loading weights using safetensors.\n",
      "2024-03-17 15:24:06,971 INFO {/home/dabin/anaconda3/envs/nuplan/lib/python3.9/site-packages/timm/models/_hub.py:180}  [timm/resnet50.a1_in1k] Safe alternative available for 'pytorch_model.bin' (as 'model.safetensors'). Loading weights using safetensors.\n",
      "2024-03-17 15:24:06,987 INFO {/home/dabin/anaconda3/envs/nuplan/lib/python3.9/site-packages/timm/models/_builder.py:210}  Converted input conv conv1 pretrained weights from 3 to 4 channel(s)\n",
      "2024-03-17 15:24:06,987 INFO {/home/dabin/anaconda3/envs/nuplan/lib/python3.9/site-packages/timm/models/_builder.py:210}  Converted input conv conv1 pretrained weights from 3 to 4 channel(s)\n",
      "2024-03-17 15:24:07,000 INFO {/home/dabin/nuplan-devkit/nuplan/planning/script/builders/model_builder.py:21}  Building TorchModuleWrapper...DONE!\n",
      "2024-03-17 15:24:07,000 INFO {/home/dabin/nuplan-devkit/nuplan/planning/script/builders/model_builder.py:21}  Building TorchModuleWrapper...DONE!\n",
      "2024-03-17 15:24:07,345 INFO {/home/dabin/nuplan-devkit/nuplan/planning/script/builders/model_builder.py:18}  Building TorchModuleWrapper...\n",
      "2024-03-17 15:24:07,345 INFO {/home/dabin/nuplan-devkit/nuplan/planning/script/builders/model_builder.py:18}  Building TorchModuleWrapper...\n",
      "2024-03-17 15:24:07,464 INFO {/home/dabin/anaconda3/envs/nuplan/lib/python3.9/site-packages/timm/models/_builder.py:186}  Loading pretrained weights from Hugging Face hub (timm/resnet50.a1_in1k)\n",
      "2024-03-17 15:24:07,464 INFO {/home/dabin/anaconda3/envs/nuplan/lib/python3.9/site-packages/timm/models/_builder.py:186}  Loading pretrained weights from Hugging Face hub (timm/resnet50.a1_in1k)\n",
      "2024-03-17 15:24:08,139 INFO {/home/dabin/anaconda3/envs/nuplan/lib/python3.9/site-packages/timm/models/_hub.py:180}  [timm/resnet50.a1_in1k] Safe alternative available for 'pytorch_model.bin' (as 'model.safetensors'). Loading weights using safetensors.\n",
      "2024-03-17 15:24:08,139 INFO {/home/dabin/anaconda3/envs/nuplan/lib/python3.9/site-packages/timm/models/_hub.py:180}  [timm/resnet50.a1_in1k] Safe alternative available for 'pytorch_model.bin' (as 'model.safetensors'). Loading weights using safetensors.\n",
      "2024-03-17 15:24:08,163 INFO {/home/dabin/anaconda3/envs/nuplan/lib/python3.9/site-packages/timm/models/_builder.py:210}  Converted input conv conv1 pretrained weights from 3 to 4 channel(s)\n",
      "2024-03-17 15:24:08,163 INFO {/home/dabin/anaconda3/envs/nuplan/lib/python3.9/site-packages/timm/models/_builder.py:210}  Converted input conv conv1 pretrained weights from 3 to 4 channel(s)\n",
      "2024-03-17 15:24:08,174 INFO {/home/dabin/nuplan-devkit/nuplan/planning/script/builders/model_builder.py:21}  Building TorchModuleWrapper...DONE!\n",
      "2024-03-17 15:24:08,174 INFO {/home/dabin/nuplan-devkit/nuplan/planning/script/builders/model_builder.py:21}  Building TorchModuleWrapper...DONE!\n",
      "2024-03-17 15:24:08,301 INFO {/home/dabin/nuplan-devkit/nuplan/planning/script/builders/model_builder.py:18}  Building TorchModuleWrapper...\n",
      "2024-03-17 15:24:08,301 INFO {/home/dabin/nuplan-devkit/nuplan/planning/script/builders/model_builder.py:18}  Building TorchModuleWrapper...\n",
      "2024-03-17 15:24:08,423 INFO {/home/dabin/anaconda3/envs/nuplan/lib/python3.9/site-packages/timm/models/_builder.py:186}  Loading pretrained weights from Hugging Face hub (timm/resnet50.a1_in1k)\n",
      "2024-03-17 15:24:08,423 INFO {/home/dabin/anaconda3/envs/nuplan/lib/python3.9/site-packages/timm/models/_builder.py:186}  Loading pretrained weights from Hugging Face hub (timm/resnet50.a1_in1k)\n",
      "2024-03-17 15:24:08,633 INFO {/home/dabin/anaconda3/envs/nuplan/lib/python3.9/site-packages/timm/models/_hub.py:180}  [timm/resnet50.a1_in1k] Safe alternative available for 'pytorch_model.bin' (as 'model.safetensors'). Loading weights using safetensors.\n",
      "2024-03-17 15:24:08,633 INFO {/home/dabin/anaconda3/envs/nuplan/lib/python3.9/site-packages/timm/models/_hub.py:180}  [timm/resnet50.a1_in1k] Safe alternative available for 'pytorch_model.bin' (as 'model.safetensors'). Loading weights using safetensors.\n",
      "2024-03-17 15:24:08,649 INFO {/home/dabin/anaconda3/envs/nuplan/lib/python3.9/site-packages/timm/models/_builder.py:210}  Converted input conv conv1 pretrained weights from 3 to 4 channel(s)\n",
      "2024-03-17 15:24:08,649 INFO {/home/dabin/anaconda3/envs/nuplan/lib/python3.9/site-packages/timm/models/_builder.py:210}  Converted input conv conv1 pretrained weights from 3 to 4 channel(s)\n",
      "2024-03-17 15:24:08,662 INFO {/home/dabin/nuplan-devkit/nuplan/planning/script/builders/model_builder.py:21}  Building TorchModuleWrapper...DONE!\n",
      "2024-03-17 15:24:08,662 INFO {/home/dabin/nuplan-devkit/nuplan/planning/script/builders/model_builder.py:21}  Building TorchModuleWrapper...DONE!\n",
      "2024-03-17 15:24:09,004 INFO {/home/dabin/nuplan-devkit/nuplan/planning/script/builders/model_builder.py:18}  Building TorchModuleWrapper...\n",
      "2024-03-17 15:24:09,004 INFO {/home/dabin/nuplan-devkit/nuplan/planning/script/builders/model_builder.py:18}  Building TorchModuleWrapper...\n",
      "2024-03-17 15:24:09,123 INFO {/home/dabin/anaconda3/envs/nuplan/lib/python3.9/site-packages/timm/models/_builder.py:186}  Loading pretrained weights from Hugging Face hub (timm/resnet50.a1_in1k)\n",
      "2024-03-17 15:24:09,123 INFO {/home/dabin/anaconda3/envs/nuplan/lib/python3.9/site-packages/timm/models/_builder.py:186}  Loading pretrained weights from Hugging Face hub (timm/resnet50.a1_in1k)\n",
      "2024-03-17 15:24:09,334 INFO {/home/dabin/anaconda3/envs/nuplan/lib/python3.9/site-packages/timm/models/_hub.py:180}  [timm/resnet50.a1_in1k] Safe alternative available for 'pytorch_model.bin' (as 'model.safetensors'). Loading weights using safetensors.\n",
      "2024-03-17 15:24:09,334 INFO {/home/dabin/anaconda3/envs/nuplan/lib/python3.9/site-packages/timm/models/_hub.py:180}  [timm/resnet50.a1_in1k] Safe alternative available for 'pytorch_model.bin' (as 'model.safetensors'). Loading weights using safetensors.\n",
      "2024-03-17 15:24:09,349 INFO {/home/dabin/anaconda3/envs/nuplan/lib/python3.9/site-packages/timm/models/_builder.py:210}  Converted input conv conv1 pretrained weights from 3 to 4 channel(s)\n",
      "2024-03-17 15:24:09,349 INFO {/home/dabin/anaconda3/envs/nuplan/lib/python3.9/site-packages/timm/models/_builder.py:210}  Converted input conv conv1 pretrained weights from 3 to 4 channel(s)\n",
      "2024-03-17 15:24:09,359 INFO {/home/dabin/nuplan-devkit/nuplan/planning/script/builders/model_builder.py:21}  Building TorchModuleWrapper...DONE!\n",
      "2024-03-17 15:24:09,359 INFO {/home/dabin/nuplan-devkit/nuplan/planning/script/builders/model_builder.py:21}  Building TorchModuleWrapper...DONE!\n",
      "2024-03-17 15:24:09,691 INFO {/home/dabin/nuplan-devkit/nuplan/planning/script/builders/model_builder.py:18}  Building TorchModuleWrapper...\n",
      "2024-03-17 15:24:09,691 INFO {/home/dabin/nuplan-devkit/nuplan/planning/script/builders/model_builder.py:18}  Building TorchModuleWrapper...\n",
      "2024-03-17 15:24:09,813 INFO {/home/dabin/anaconda3/envs/nuplan/lib/python3.9/site-packages/timm/models/_builder.py:186}  Loading pretrained weights from Hugging Face hub (timm/resnet50.a1_in1k)\n",
      "2024-03-17 15:24:09,813 INFO {/home/dabin/anaconda3/envs/nuplan/lib/python3.9/site-packages/timm/models/_builder.py:186}  Loading pretrained weights from Hugging Face hub (timm/resnet50.a1_in1k)\n",
      "2024-03-17 15:24:10,028 INFO {/home/dabin/anaconda3/envs/nuplan/lib/python3.9/site-packages/timm/models/_hub.py:180}  [timm/resnet50.a1_in1k] Safe alternative available for 'pytorch_model.bin' (as 'model.safetensors'). Loading weights using safetensors.\n",
      "2024-03-17 15:24:10,028 INFO {/home/dabin/anaconda3/envs/nuplan/lib/python3.9/site-packages/timm/models/_hub.py:180}  [timm/resnet50.a1_in1k] Safe alternative available for 'pytorch_model.bin' (as 'model.safetensors'). Loading weights using safetensors.\n",
      "2024-03-17 15:24:10,045 INFO {/home/dabin/anaconda3/envs/nuplan/lib/python3.9/site-packages/timm/models/_builder.py:210}  Converted input conv conv1 pretrained weights from 3 to 4 channel(s)\n",
      "2024-03-17 15:24:10,045 INFO {/home/dabin/anaconda3/envs/nuplan/lib/python3.9/site-packages/timm/models/_builder.py:210}  Converted input conv conv1 pretrained weights from 3 to 4 channel(s)\n",
      "2024-03-17 15:24:10,055 INFO {/home/dabin/nuplan-devkit/nuplan/planning/script/builders/model_builder.py:21}  Building TorchModuleWrapper...DONE!\n",
      "2024-03-17 15:24:10,055 INFO {/home/dabin/nuplan-devkit/nuplan/planning/script/builders/model_builder.py:21}  Building TorchModuleWrapper...DONE!\n",
      "2024-03-17 15:24:10,171 INFO {/home/dabin/nuplan-devkit/nuplan/planning/script/builders/model_builder.py:18}  Building TorchModuleWrapper...\n",
      "2024-03-17 15:24:10,171 INFO {/home/dabin/nuplan-devkit/nuplan/planning/script/builders/model_builder.py:18}  Building TorchModuleWrapper...\n",
      "2024-03-17 15:24:10,291 INFO {/home/dabin/anaconda3/envs/nuplan/lib/python3.9/site-packages/timm/models/_builder.py:186}  Loading pretrained weights from Hugging Face hub (timm/resnet50.a1_in1k)\n",
      "2024-03-17 15:24:10,291 INFO {/home/dabin/anaconda3/envs/nuplan/lib/python3.9/site-packages/timm/models/_builder.py:186}  Loading pretrained weights from Hugging Face hub (timm/resnet50.a1_in1k)\n",
      "2024-03-17 15:24:10,511 INFO {/home/dabin/anaconda3/envs/nuplan/lib/python3.9/site-packages/timm/models/_hub.py:180}  [timm/resnet50.a1_in1k] Safe alternative available for 'pytorch_model.bin' (as 'model.safetensors'). Loading weights using safetensors.\n",
      "2024-03-17 15:24:10,511 INFO {/home/dabin/anaconda3/envs/nuplan/lib/python3.9/site-packages/timm/models/_hub.py:180}  [timm/resnet50.a1_in1k] Safe alternative available for 'pytorch_model.bin' (as 'model.safetensors'). Loading weights using safetensors.\n",
      "2024-03-17 15:24:10,532 INFO {/home/dabin/anaconda3/envs/nuplan/lib/python3.9/site-packages/timm/models/_builder.py:210}  Converted input conv conv1 pretrained weights from 3 to 4 channel(s)\n",
      "2024-03-17 15:24:10,532 INFO {/home/dabin/anaconda3/envs/nuplan/lib/python3.9/site-packages/timm/models/_builder.py:210}  Converted input conv conv1 pretrained weights from 3 to 4 channel(s)\n",
      "2024-03-17 15:24:10,544 INFO {/home/dabin/nuplan-devkit/nuplan/planning/script/builders/model_builder.py:21}  Building TorchModuleWrapper...DONE!\n",
      "2024-03-17 15:24:10,544 INFO {/home/dabin/nuplan-devkit/nuplan/planning/script/builders/model_builder.py:21}  Building TorchModuleWrapper...DONE!\n",
      "2024-03-17 15:24:10,902 INFO {/home/dabin/nuplan-devkit/nuplan/planning/script/builders/model_builder.py:18}  Building TorchModuleWrapper...\n",
      "2024-03-17 15:24:10,902 INFO {/home/dabin/nuplan-devkit/nuplan/planning/script/builders/model_builder.py:18}  Building TorchModuleWrapper...\n",
      "2024-03-17 15:24:11,023 INFO {/home/dabin/anaconda3/envs/nuplan/lib/python3.9/site-packages/timm/models/_builder.py:186}  Loading pretrained weights from Hugging Face hub (timm/resnet50.a1_in1k)\n",
      "2024-03-17 15:24:11,023 INFO {/home/dabin/anaconda3/envs/nuplan/lib/python3.9/site-packages/timm/models/_builder.py:186}  Loading pretrained weights from Hugging Face hub (timm/resnet50.a1_in1k)\n",
      "2024-03-17 15:24:11,282 INFO {/home/dabin/anaconda3/envs/nuplan/lib/python3.9/site-packages/timm/models/_hub.py:180}  [timm/resnet50.a1_in1k] Safe alternative available for 'pytorch_model.bin' (as 'model.safetensors'). Loading weights using safetensors.\n",
      "2024-03-17 15:24:11,282 INFO {/home/dabin/anaconda3/envs/nuplan/lib/python3.9/site-packages/timm/models/_hub.py:180}  [timm/resnet50.a1_in1k] Safe alternative available for 'pytorch_model.bin' (as 'model.safetensors'). Loading weights using safetensors.\n",
      "2024-03-17 15:24:11,300 INFO {/home/dabin/anaconda3/envs/nuplan/lib/python3.9/site-packages/timm/models/_builder.py:210}  Converted input conv conv1 pretrained weights from 3 to 4 channel(s)\n",
      "2024-03-17 15:24:11,300 INFO {/home/dabin/anaconda3/envs/nuplan/lib/python3.9/site-packages/timm/models/_builder.py:210}  Converted input conv conv1 pretrained weights from 3 to 4 channel(s)\n",
      "2024-03-17 15:24:11,310 INFO {/home/dabin/nuplan-devkit/nuplan/planning/script/builders/model_builder.py:21}  Building TorchModuleWrapper...DONE!\n",
      "2024-03-17 15:24:11,310 INFO {/home/dabin/nuplan-devkit/nuplan/planning/script/builders/model_builder.py:21}  Building TorchModuleWrapper...DONE!\n",
      "2024-03-17 15:24:11,427 INFO {/home/dabin/nuplan-devkit/nuplan/planning/script/builders/model_builder.py:18}  Building TorchModuleWrapper...\n",
      "2024-03-17 15:24:11,427 INFO {/home/dabin/nuplan-devkit/nuplan/planning/script/builders/model_builder.py:18}  Building TorchModuleWrapper...\n",
      "2024-03-17 15:24:11,549 INFO {/home/dabin/anaconda3/envs/nuplan/lib/python3.9/site-packages/timm/models/_builder.py:186}  Loading pretrained weights from Hugging Face hub (timm/resnet50.a1_in1k)\n",
      "2024-03-17 15:24:11,549 INFO {/home/dabin/anaconda3/envs/nuplan/lib/python3.9/site-packages/timm/models/_builder.py:186}  Loading pretrained weights from Hugging Face hub (timm/resnet50.a1_in1k)\n",
      "2024-03-17 15:24:11,759 INFO {/home/dabin/anaconda3/envs/nuplan/lib/python3.9/site-packages/timm/models/_hub.py:180}  [timm/resnet50.a1_in1k] Safe alternative available for 'pytorch_model.bin' (as 'model.safetensors'). Loading weights using safetensors.\n",
      "2024-03-17 15:24:11,759 INFO {/home/dabin/anaconda3/envs/nuplan/lib/python3.9/site-packages/timm/models/_hub.py:180}  [timm/resnet50.a1_in1k] Safe alternative available for 'pytorch_model.bin' (as 'model.safetensors'). Loading weights using safetensors.\n",
      "2024-03-17 15:24:11,777 INFO {/home/dabin/anaconda3/envs/nuplan/lib/python3.9/site-packages/timm/models/_builder.py:210}  Converted input conv conv1 pretrained weights from 3 to 4 channel(s)\n",
      "2024-03-17 15:24:11,777 INFO {/home/dabin/anaconda3/envs/nuplan/lib/python3.9/site-packages/timm/models/_builder.py:210}  Converted input conv conv1 pretrained weights from 3 to 4 channel(s)\n",
      "2024-03-17 15:24:11,787 INFO {/home/dabin/nuplan-devkit/nuplan/planning/script/builders/model_builder.py:21}  Building TorchModuleWrapper...DONE!\n",
      "2024-03-17 15:24:11,787 INFO {/home/dabin/nuplan-devkit/nuplan/planning/script/builders/model_builder.py:21}  Building TorchModuleWrapper...DONE!\n",
      "2024-03-17 15:24:12,145 INFO {/home/dabin/nuplan-devkit/nuplan/planning/script/builders/model_builder.py:18}  Building TorchModuleWrapper...\n",
      "2024-03-17 15:24:12,145 INFO {/home/dabin/nuplan-devkit/nuplan/planning/script/builders/model_builder.py:18}  Building TorchModuleWrapper...\n",
      "2024-03-17 15:24:12,268 INFO {/home/dabin/anaconda3/envs/nuplan/lib/python3.9/site-packages/timm/models/_builder.py:186}  Loading pretrained weights from Hugging Face hub (timm/resnet50.a1_in1k)\n",
      "2024-03-17 15:24:12,268 INFO {/home/dabin/anaconda3/envs/nuplan/lib/python3.9/site-packages/timm/models/_builder.py:186}  Loading pretrained weights from Hugging Face hub (timm/resnet50.a1_in1k)\n",
      "2024-03-17 15:24:12,474 INFO {/home/dabin/anaconda3/envs/nuplan/lib/python3.9/site-packages/timm/models/_hub.py:180}  [timm/resnet50.a1_in1k] Safe alternative available for 'pytorch_model.bin' (as 'model.safetensors'). Loading weights using safetensors.\n",
      "2024-03-17 15:24:12,474 INFO {/home/dabin/anaconda3/envs/nuplan/lib/python3.9/site-packages/timm/models/_hub.py:180}  [timm/resnet50.a1_in1k] Safe alternative available for 'pytorch_model.bin' (as 'model.safetensors'). Loading weights using safetensors.\n",
      "2024-03-17 15:24:12,489 INFO {/home/dabin/anaconda3/envs/nuplan/lib/python3.9/site-packages/timm/models/_builder.py:210}  Converted input conv conv1 pretrained weights from 3 to 4 channel(s)\n",
      "2024-03-17 15:24:12,489 INFO {/home/dabin/anaconda3/envs/nuplan/lib/python3.9/site-packages/timm/models/_builder.py:210}  Converted input conv conv1 pretrained weights from 3 to 4 channel(s)\n",
      "2024-03-17 15:24:12,499 INFO {/home/dabin/nuplan-devkit/nuplan/planning/script/builders/model_builder.py:21}  Building TorchModuleWrapper...DONE!\n",
      "2024-03-17 15:24:12,499 INFO {/home/dabin/nuplan-devkit/nuplan/planning/script/builders/model_builder.py:21}  Building TorchModuleWrapper...DONE!\n",
      "2024-03-17 15:24:12,619 INFO {/home/dabin/nuplan-devkit/nuplan/planning/script/builders/model_builder.py:18}  Building TorchModuleWrapper...\n",
      "2024-03-17 15:24:12,619 INFO {/home/dabin/nuplan-devkit/nuplan/planning/script/builders/model_builder.py:18}  Building TorchModuleWrapper...\n",
      "2024-03-17 15:24:12,741 INFO {/home/dabin/anaconda3/envs/nuplan/lib/python3.9/site-packages/timm/models/_builder.py:186}  Loading pretrained weights from Hugging Face hub (timm/resnet50.a1_in1k)\n",
      "2024-03-17 15:24:12,741 INFO {/home/dabin/anaconda3/envs/nuplan/lib/python3.9/site-packages/timm/models/_builder.py:186}  Loading pretrained weights from Hugging Face hub (timm/resnet50.a1_in1k)\n",
      "2024-03-17 15:24:12,956 INFO {/home/dabin/anaconda3/envs/nuplan/lib/python3.9/site-packages/timm/models/_hub.py:180}  [timm/resnet50.a1_in1k] Safe alternative available for 'pytorch_model.bin' (as 'model.safetensors'). Loading weights using safetensors.\n",
      "2024-03-17 15:24:12,956 INFO {/home/dabin/anaconda3/envs/nuplan/lib/python3.9/site-packages/timm/models/_hub.py:180}  [timm/resnet50.a1_in1k] Safe alternative available for 'pytorch_model.bin' (as 'model.safetensors'). Loading weights using safetensors.\n",
      "2024-03-17 15:24:12,974 INFO {/home/dabin/anaconda3/envs/nuplan/lib/python3.9/site-packages/timm/models/_builder.py:210}  Converted input conv conv1 pretrained weights from 3 to 4 channel(s)\n",
      "2024-03-17 15:24:12,974 INFO {/home/dabin/anaconda3/envs/nuplan/lib/python3.9/site-packages/timm/models/_builder.py:210}  Converted input conv conv1 pretrained weights from 3 to 4 channel(s)\n",
      "2024-03-17 15:24:12,984 INFO {/home/dabin/nuplan-devkit/nuplan/planning/script/builders/model_builder.py:21}  Building TorchModuleWrapper...DONE!\n",
      "2024-03-17 15:24:12,984 INFO {/home/dabin/nuplan-devkit/nuplan/planning/script/builders/model_builder.py:21}  Building TorchModuleWrapper...DONE!\n",
      "2024-03-17 15:24:13,348 INFO {/home/dabin/nuplan-devkit/nuplan/planning/script/builders/model_builder.py:18}  Building TorchModuleWrapper...\n",
      "2024-03-17 15:24:13,348 INFO {/home/dabin/nuplan-devkit/nuplan/planning/script/builders/model_builder.py:18}  Building TorchModuleWrapper...\n",
      "2024-03-17 15:24:13,471 INFO {/home/dabin/anaconda3/envs/nuplan/lib/python3.9/site-packages/timm/models/_builder.py:186}  Loading pretrained weights from Hugging Face hub (timm/resnet50.a1_in1k)\n",
      "2024-03-17 15:24:13,471 INFO {/home/dabin/anaconda3/envs/nuplan/lib/python3.9/site-packages/timm/models/_builder.py:186}  Loading pretrained weights from Hugging Face hub (timm/resnet50.a1_in1k)\n",
      "2024-03-17 15:24:13,680 INFO {/home/dabin/anaconda3/envs/nuplan/lib/python3.9/site-packages/timm/models/_hub.py:180}  [timm/resnet50.a1_in1k] Safe alternative available for 'pytorch_model.bin' (as 'model.safetensors'). Loading weights using safetensors.\n",
      "2024-03-17 15:24:13,680 INFO {/home/dabin/anaconda3/envs/nuplan/lib/python3.9/site-packages/timm/models/_hub.py:180}  [timm/resnet50.a1_in1k] Safe alternative available for 'pytorch_model.bin' (as 'model.safetensors'). Loading weights using safetensors.\n",
      "2024-03-17 15:24:13,694 INFO {/home/dabin/anaconda3/envs/nuplan/lib/python3.9/site-packages/timm/models/_builder.py:210}  Converted input conv conv1 pretrained weights from 3 to 4 channel(s)\n",
      "2024-03-17 15:24:13,694 INFO {/home/dabin/anaconda3/envs/nuplan/lib/python3.9/site-packages/timm/models/_builder.py:210}  Converted input conv conv1 pretrained weights from 3 to 4 channel(s)\n",
      "2024-03-17 15:24:13,705 INFO {/home/dabin/nuplan-devkit/nuplan/planning/script/builders/model_builder.py:21}  Building TorchModuleWrapper...DONE!\n",
      "2024-03-17 15:24:13,705 INFO {/home/dabin/nuplan-devkit/nuplan/planning/script/builders/model_builder.py:21}  Building TorchModuleWrapper...DONE!\n",
      "2024-03-17 15:24:14,043 INFO {/home/dabin/nuplan-devkit/nuplan/planning/script/builders/model_builder.py:18}  Building TorchModuleWrapper...\n",
      "2024-03-17 15:24:14,043 INFO {/home/dabin/nuplan-devkit/nuplan/planning/script/builders/model_builder.py:18}  Building TorchModuleWrapper...\n",
      "2024-03-17 15:24:14,164 INFO {/home/dabin/anaconda3/envs/nuplan/lib/python3.9/site-packages/timm/models/_builder.py:186}  Loading pretrained weights from Hugging Face hub (timm/resnet50.a1_in1k)\n",
      "2024-03-17 15:24:14,164 INFO {/home/dabin/anaconda3/envs/nuplan/lib/python3.9/site-packages/timm/models/_builder.py:186}  Loading pretrained weights from Hugging Face hub (timm/resnet50.a1_in1k)\n",
      "2024-03-17 15:24:14,379 INFO {/home/dabin/anaconda3/envs/nuplan/lib/python3.9/site-packages/timm/models/_hub.py:180}  [timm/resnet50.a1_in1k] Safe alternative available for 'pytorch_model.bin' (as 'model.safetensors'). Loading weights using safetensors.\n",
      "2024-03-17 15:24:14,379 INFO {/home/dabin/anaconda3/envs/nuplan/lib/python3.9/site-packages/timm/models/_hub.py:180}  [timm/resnet50.a1_in1k] Safe alternative available for 'pytorch_model.bin' (as 'model.safetensors'). Loading weights using safetensors.\n",
      "2024-03-17 15:24:14,402 INFO {/home/dabin/anaconda3/envs/nuplan/lib/python3.9/site-packages/timm/models/_builder.py:210}  Converted input conv conv1 pretrained weights from 3 to 4 channel(s)\n",
      "2024-03-17 15:24:14,402 INFO {/home/dabin/anaconda3/envs/nuplan/lib/python3.9/site-packages/timm/models/_builder.py:210}  Converted input conv conv1 pretrained weights from 3 to 4 channel(s)\n",
      "2024-03-17 15:24:14,414 INFO {/home/dabin/nuplan-devkit/nuplan/planning/script/builders/model_builder.py:21}  Building TorchModuleWrapper...DONE!\n",
      "2024-03-17 15:24:14,414 INFO {/home/dabin/nuplan-devkit/nuplan/planning/script/builders/model_builder.py:21}  Building TorchModuleWrapper...DONE!\n",
      "2024-03-17 15:24:14,543 INFO {/home/dabin/nuplan-devkit/nuplan/planning/script/builders/model_builder.py:18}  Building TorchModuleWrapper...\n",
      "2024-03-17 15:24:14,543 INFO {/home/dabin/nuplan-devkit/nuplan/planning/script/builders/model_builder.py:18}  Building TorchModuleWrapper...\n",
      "2024-03-17 15:24:14,665 INFO {/home/dabin/anaconda3/envs/nuplan/lib/python3.9/site-packages/timm/models/_builder.py:186}  Loading pretrained weights from Hugging Face hub (timm/resnet50.a1_in1k)\n",
      "2024-03-17 15:24:14,665 INFO {/home/dabin/anaconda3/envs/nuplan/lib/python3.9/site-packages/timm/models/_builder.py:186}  Loading pretrained weights from Hugging Face hub (timm/resnet50.a1_in1k)\n",
      "2024-03-17 15:24:14,875 INFO {/home/dabin/anaconda3/envs/nuplan/lib/python3.9/site-packages/timm/models/_hub.py:180}  [timm/resnet50.a1_in1k] Safe alternative available for 'pytorch_model.bin' (as 'model.safetensors'). Loading weights using safetensors.\n",
      "2024-03-17 15:24:14,875 INFO {/home/dabin/anaconda3/envs/nuplan/lib/python3.9/site-packages/timm/models/_hub.py:180}  [timm/resnet50.a1_in1k] Safe alternative available for 'pytorch_model.bin' (as 'model.safetensors'). Loading weights using safetensors.\n",
      "2024-03-17 15:24:14,891 INFO {/home/dabin/anaconda3/envs/nuplan/lib/python3.9/site-packages/timm/models/_builder.py:210}  Converted input conv conv1 pretrained weights from 3 to 4 channel(s)\n",
      "2024-03-17 15:24:14,891 INFO {/home/dabin/anaconda3/envs/nuplan/lib/python3.9/site-packages/timm/models/_builder.py:210}  Converted input conv conv1 pretrained weights from 3 to 4 channel(s)\n",
      "2024-03-17 15:24:14,904 INFO {/home/dabin/nuplan-devkit/nuplan/planning/script/builders/model_builder.py:21}  Building TorchModuleWrapper...DONE!\n",
      "2024-03-17 15:24:14,904 INFO {/home/dabin/nuplan-devkit/nuplan/planning/script/builders/model_builder.py:21}  Building TorchModuleWrapper...DONE!\n",
      "2024-03-17 15:24:15,259 INFO {/home/dabin/nuplan-devkit/nuplan/planning/script/builders/model_builder.py:18}  Building TorchModuleWrapper...\n",
      "2024-03-17 15:24:15,259 INFO {/home/dabin/nuplan-devkit/nuplan/planning/script/builders/model_builder.py:18}  Building TorchModuleWrapper...\n",
      "2024-03-17 15:24:15,380 INFO {/home/dabin/anaconda3/envs/nuplan/lib/python3.9/site-packages/timm/models/_builder.py:186}  Loading pretrained weights from Hugging Face hub (timm/resnet50.a1_in1k)\n",
      "2024-03-17 15:24:15,380 INFO {/home/dabin/anaconda3/envs/nuplan/lib/python3.9/site-packages/timm/models/_builder.py:186}  Loading pretrained weights from Hugging Face hub (timm/resnet50.a1_in1k)\n",
      "2024-03-17 15:24:15,587 INFO {/home/dabin/anaconda3/envs/nuplan/lib/python3.9/site-packages/timm/models/_hub.py:180}  [timm/resnet50.a1_in1k] Safe alternative available for 'pytorch_model.bin' (as 'model.safetensors'). Loading weights using safetensors.\n",
      "2024-03-17 15:24:15,587 INFO {/home/dabin/anaconda3/envs/nuplan/lib/python3.9/site-packages/timm/models/_hub.py:180}  [timm/resnet50.a1_in1k] Safe alternative available for 'pytorch_model.bin' (as 'model.safetensors'). Loading weights using safetensors.\n",
      "2024-03-17 15:24:15,612 INFO {/home/dabin/anaconda3/envs/nuplan/lib/python3.9/site-packages/timm/models/_builder.py:210}  Converted input conv conv1 pretrained weights from 3 to 4 channel(s)\n",
      "2024-03-17 15:24:15,612 INFO {/home/dabin/anaconda3/envs/nuplan/lib/python3.9/site-packages/timm/models/_builder.py:210}  Converted input conv conv1 pretrained weights from 3 to 4 channel(s)\n",
      "2024-03-17 15:24:15,624 INFO {/home/dabin/nuplan-devkit/nuplan/planning/script/builders/model_builder.py:21}  Building TorchModuleWrapper...DONE!\n",
      "2024-03-17 15:24:15,624 INFO {/home/dabin/nuplan-devkit/nuplan/planning/script/builders/model_builder.py:21}  Building TorchModuleWrapper...DONE!\n",
      "2024-03-17 15:24:15,753 INFO {/home/dabin/nuplan-devkit/nuplan/planning/script/builders/model_builder.py:18}  Building TorchModuleWrapper...\n",
      "2024-03-17 15:24:15,753 INFO {/home/dabin/nuplan-devkit/nuplan/planning/script/builders/model_builder.py:18}  Building TorchModuleWrapper...\n",
      "2024-03-17 15:24:15,873 INFO {/home/dabin/anaconda3/envs/nuplan/lib/python3.9/site-packages/timm/models/_builder.py:186}  Loading pretrained weights from Hugging Face hub (timm/resnet50.a1_in1k)\n",
      "2024-03-17 15:24:15,873 INFO {/home/dabin/anaconda3/envs/nuplan/lib/python3.9/site-packages/timm/models/_builder.py:186}  Loading pretrained weights from Hugging Face hub (timm/resnet50.a1_in1k)\n",
      "2024-03-17 15:24:16,091 INFO {/home/dabin/anaconda3/envs/nuplan/lib/python3.9/site-packages/timm/models/_hub.py:180}  [timm/resnet50.a1_in1k] Safe alternative available for 'pytorch_model.bin' (as 'model.safetensors'). Loading weights using safetensors.\n",
      "2024-03-17 15:24:16,091 INFO {/home/dabin/anaconda3/envs/nuplan/lib/python3.9/site-packages/timm/models/_hub.py:180}  [timm/resnet50.a1_in1k] Safe alternative available for 'pytorch_model.bin' (as 'model.safetensors'). Loading weights using safetensors.\n",
      "2024-03-17 15:24:16,106 INFO {/home/dabin/anaconda3/envs/nuplan/lib/python3.9/site-packages/timm/models/_builder.py:210}  Converted input conv conv1 pretrained weights from 3 to 4 channel(s)\n",
      "2024-03-17 15:24:16,106 INFO {/home/dabin/anaconda3/envs/nuplan/lib/python3.9/site-packages/timm/models/_builder.py:210}  Converted input conv conv1 pretrained weights from 3 to 4 channel(s)\n",
      "2024-03-17 15:24:16,116 INFO {/home/dabin/nuplan-devkit/nuplan/planning/script/builders/model_builder.py:21}  Building TorchModuleWrapper...DONE!\n",
      "2024-03-17 15:24:16,116 INFO {/home/dabin/nuplan-devkit/nuplan/planning/script/builders/model_builder.py:21}  Building TorchModuleWrapper...DONE!\n",
      "2024-03-17 15:24:16,472 INFO {/home/dabin/nuplan-devkit/nuplan/planning/script/builders/model_builder.py:18}  Building TorchModuleWrapper...\n",
      "2024-03-17 15:24:16,472 INFO {/home/dabin/nuplan-devkit/nuplan/planning/script/builders/model_builder.py:18}  Building TorchModuleWrapper...\n",
      "2024-03-17 15:24:16,593 INFO {/home/dabin/anaconda3/envs/nuplan/lib/python3.9/site-packages/timm/models/_builder.py:186}  Loading pretrained weights from Hugging Face hub (timm/resnet50.a1_in1k)\n",
      "2024-03-17 15:24:16,593 INFO {/home/dabin/anaconda3/envs/nuplan/lib/python3.9/site-packages/timm/models/_builder.py:186}  Loading pretrained weights from Hugging Face hub (timm/resnet50.a1_in1k)\n",
      "2024-03-17 15:24:16,806 INFO {/home/dabin/anaconda3/envs/nuplan/lib/python3.9/site-packages/timm/models/_hub.py:180}  [timm/resnet50.a1_in1k] Safe alternative available for 'pytorch_model.bin' (as 'model.safetensors'). Loading weights using safetensors.\n",
      "2024-03-17 15:24:16,806 INFO {/home/dabin/anaconda3/envs/nuplan/lib/python3.9/site-packages/timm/models/_hub.py:180}  [timm/resnet50.a1_in1k] Safe alternative available for 'pytorch_model.bin' (as 'model.safetensors'). Loading weights using safetensors.\n",
      "2024-03-17 15:24:16,831 INFO {/home/dabin/anaconda3/envs/nuplan/lib/python3.9/site-packages/timm/models/_builder.py:210}  Converted input conv conv1 pretrained weights from 3 to 4 channel(s)\n",
      "2024-03-17 15:24:16,831 INFO {/home/dabin/anaconda3/envs/nuplan/lib/python3.9/site-packages/timm/models/_builder.py:210}  Converted input conv conv1 pretrained weights from 3 to 4 channel(s)\n",
      "2024-03-17 15:24:16,842 INFO {/home/dabin/nuplan-devkit/nuplan/planning/script/builders/model_builder.py:21}  Building TorchModuleWrapper...DONE!\n",
      "2024-03-17 15:24:16,842 INFO {/home/dabin/nuplan-devkit/nuplan/planning/script/builders/model_builder.py:21}  Building TorchModuleWrapper...DONE!\n",
      "2024-03-17 15:24:16,971 INFO {/home/dabin/nuplan-devkit/nuplan/planning/script/builders/model_builder.py:18}  Building TorchModuleWrapper...\n",
      "2024-03-17 15:24:16,971 INFO {/home/dabin/nuplan-devkit/nuplan/planning/script/builders/model_builder.py:18}  Building TorchModuleWrapper...\n",
      "2024-03-17 15:24:17,091 INFO {/home/dabin/anaconda3/envs/nuplan/lib/python3.9/site-packages/timm/models/_builder.py:186}  Loading pretrained weights from Hugging Face hub (timm/resnet50.a1_in1k)\n",
      "2024-03-17 15:24:17,091 INFO {/home/dabin/anaconda3/envs/nuplan/lib/python3.9/site-packages/timm/models/_builder.py:186}  Loading pretrained weights from Hugging Face hub (timm/resnet50.a1_in1k)\n",
      "2024-03-17 15:24:17,315 INFO {/home/dabin/anaconda3/envs/nuplan/lib/python3.9/site-packages/timm/models/_hub.py:180}  [timm/resnet50.a1_in1k] Safe alternative available for 'pytorch_model.bin' (as 'model.safetensors'). Loading weights using safetensors.\n",
      "2024-03-17 15:24:17,315 INFO {/home/dabin/anaconda3/envs/nuplan/lib/python3.9/site-packages/timm/models/_hub.py:180}  [timm/resnet50.a1_in1k] Safe alternative available for 'pytorch_model.bin' (as 'model.safetensors'). Loading weights using safetensors.\n",
      "2024-03-17 15:24:17,330 INFO {/home/dabin/anaconda3/envs/nuplan/lib/python3.9/site-packages/timm/models/_builder.py:210}  Converted input conv conv1 pretrained weights from 3 to 4 channel(s)\n",
      "2024-03-17 15:24:17,330 INFO {/home/dabin/anaconda3/envs/nuplan/lib/python3.9/site-packages/timm/models/_builder.py:210}  Converted input conv conv1 pretrained weights from 3 to 4 channel(s)\n",
      "2024-03-17 15:24:17,340 INFO {/home/dabin/nuplan-devkit/nuplan/planning/script/builders/model_builder.py:21}  Building TorchModuleWrapper...DONE!\n",
      "2024-03-17 15:24:17,340 INFO {/home/dabin/nuplan-devkit/nuplan/planning/script/builders/model_builder.py:21}  Building TorchModuleWrapper...DONE!\n",
      "2024-03-17 15:24:17,698 INFO {/home/dabin/nuplan-devkit/nuplan/planning/script/builders/model_builder.py:18}  Building TorchModuleWrapper...\n",
      "2024-03-17 15:24:17,698 INFO {/home/dabin/nuplan-devkit/nuplan/planning/script/builders/model_builder.py:18}  Building TorchModuleWrapper...\n",
      "2024-03-17 15:24:17,819 INFO {/home/dabin/anaconda3/envs/nuplan/lib/python3.9/site-packages/timm/models/_builder.py:186}  Loading pretrained weights from Hugging Face hub (timm/resnet50.a1_in1k)\n",
      "2024-03-17 15:24:17,819 INFO {/home/dabin/anaconda3/envs/nuplan/lib/python3.9/site-packages/timm/models/_builder.py:186}  Loading pretrained weights from Hugging Face hub (timm/resnet50.a1_in1k)\n",
      "2024-03-17 15:24:18,028 INFO {/home/dabin/anaconda3/envs/nuplan/lib/python3.9/site-packages/timm/models/_hub.py:180}  [timm/resnet50.a1_in1k] Safe alternative available for 'pytorch_model.bin' (as 'model.safetensors'). Loading weights using safetensors.\n",
      "2024-03-17 15:24:18,028 INFO {/home/dabin/anaconda3/envs/nuplan/lib/python3.9/site-packages/timm/models/_hub.py:180}  [timm/resnet50.a1_in1k] Safe alternative available for 'pytorch_model.bin' (as 'model.safetensors'). Loading weights using safetensors.\n",
      "2024-03-17 15:24:18,043 INFO {/home/dabin/anaconda3/envs/nuplan/lib/python3.9/site-packages/timm/models/_builder.py:210}  Converted input conv conv1 pretrained weights from 3 to 4 channel(s)\n",
      "2024-03-17 15:24:18,043 INFO {/home/dabin/anaconda3/envs/nuplan/lib/python3.9/site-packages/timm/models/_builder.py:210}  Converted input conv conv1 pretrained weights from 3 to 4 channel(s)\n",
      "2024-03-17 15:24:18,054 INFO {/home/dabin/nuplan-devkit/nuplan/planning/script/builders/model_builder.py:21}  Building TorchModuleWrapper...DONE!\n",
      "2024-03-17 15:24:18,054 INFO {/home/dabin/nuplan-devkit/nuplan/planning/script/builders/model_builder.py:21}  Building TorchModuleWrapper...DONE!\n",
      "2024-03-17 15:24:18,183 INFO {/home/dabin/nuplan-devkit/nuplan/planning/script/builders/model_builder.py:18}  Building TorchModuleWrapper...\n",
      "2024-03-17 15:24:18,183 INFO {/home/dabin/nuplan-devkit/nuplan/planning/script/builders/model_builder.py:18}  Building TorchModuleWrapper...\n",
      "2024-03-17 15:24:18,303 INFO {/home/dabin/anaconda3/envs/nuplan/lib/python3.9/site-packages/timm/models/_builder.py:186}  Loading pretrained weights from Hugging Face hub (timm/resnet50.a1_in1k)\n",
      "2024-03-17 15:24:18,303 INFO {/home/dabin/anaconda3/envs/nuplan/lib/python3.9/site-packages/timm/models/_builder.py:186}  Loading pretrained weights from Hugging Face hub (timm/resnet50.a1_in1k)\n",
      "2024-03-17 15:24:18,514 INFO {/home/dabin/anaconda3/envs/nuplan/lib/python3.9/site-packages/timm/models/_hub.py:180}  [timm/resnet50.a1_in1k] Safe alternative available for 'pytorch_model.bin' (as 'model.safetensors'). Loading weights using safetensors.\n",
      "2024-03-17 15:24:18,514 INFO {/home/dabin/anaconda3/envs/nuplan/lib/python3.9/site-packages/timm/models/_hub.py:180}  [timm/resnet50.a1_in1k] Safe alternative available for 'pytorch_model.bin' (as 'model.safetensors'). Loading weights using safetensors.\n",
      "2024-03-17 15:24:18,528 INFO {/home/dabin/anaconda3/envs/nuplan/lib/python3.9/site-packages/timm/models/_builder.py:210}  Converted input conv conv1 pretrained weights from 3 to 4 channel(s)\n",
      "2024-03-17 15:24:18,528 INFO {/home/dabin/anaconda3/envs/nuplan/lib/python3.9/site-packages/timm/models/_builder.py:210}  Converted input conv conv1 pretrained weights from 3 to 4 channel(s)\n",
      "2024-03-17 15:24:18,539 INFO {/home/dabin/nuplan-devkit/nuplan/planning/script/builders/model_builder.py:21}  Building TorchModuleWrapper...DONE!\n",
      "2024-03-17 15:24:18,539 INFO {/home/dabin/nuplan-devkit/nuplan/planning/script/builders/model_builder.py:21}  Building TorchModuleWrapper...DONE!\n",
      "2024-03-17 15:24:18,896 INFO {/home/dabin/nuplan-devkit/nuplan/planning/script/builders/model_builder.py:18}  Building TorchModuleWrapper...\n",
      "2024-03-17 15:24:18,896 INFO {/home/dabin/nuplan-devkit/nuplan/planning/script/builders/model_builder.py:18}  Building TorchModuleWrapper...\n",
      "2024-03-17 15:24:19,017 INFO {/home/dabin/anaconda3/envs/nuplan/lib/python3.9/site-packages/timm/models/_builder.py:186}  Loading pretrained weights from Hugging Face hub (timm/resnet50.a1_in1k)\n",
      "2024-03-17 15:24:19,017 INFO {/home/dabin/anaconda3/envs/nuplan/lib/python3.9/site-packages/timm/models/_builder.py:186}  Loading pretrained weights from Hugging Face hub (timm/resnet50.a1_in1k)\n",
      "2024-03-17 15:24:19,230 INFO {/home/dabin/anaconda3/envs/nuplan/lib/python3.9/site-packages/timm/models/_hub.py:180}  [timm/resnet50.a1_in1k] Safe alternative available for 'pytorch_model.bin' (as 'model.safetensors'). Loading weights using safetensors.\n",
      "2024-03-17 15:24:19,230 INFO {/home/dabin/anaconda3/envs/nuplan/lib/python3.9/site-packages/timm/models/_hub.py:180}  [timm/resnet50.a1_in1k] Safe alternative available for 'pytorch_model.bin' (as 'model.safetensors'). Loading weights using safetensors.\n",
      "2024-03-17 15:24:19,254 INFO {/home/dabin/anaconda3/envs/nuplan/lib/python3.9/site-packages/timm/models/_builder.py:210}  Converted input conv conv1 pretrained weights from 3 to 4 channel(s)\n",
      "2024-03-17 15:24:19,254 INFO {/home/dabin/anaconda3/envs/nuplan/lib/python3.9/site-packages/timm/models/_builder.py:210}  Converted input conv conv1 pretrained weights from 3 to 4 channel(s)\n",
      "2024-03-17 15:24:19,265 INFO {/home/dabin/nuplan-devkit/nuplan/planning/script/builders/model_builder.py:21}  Building TorchModuleWrapper...DONE!\n",
      "2024-03-17 15:24:19,265 INFO {/home/dabin/nuplan-devkit/nuplan/planning/script/builders/model_builder.py:21}  Building TorchModuleWrapper...DONE!\n",
      "2024-03-17 15:24:19,397 INFO {/home/dabin/nuplan-devkit/nuplan/planning/script/builders/model_builder.py:18}  Building TorchModuleWrapper...\n",
      "2024-03-17 15:24:19,397 INFO {/home/dabin/nuplan-devkit/nuplan/planning/script/builders/model_builder.py:18}  Building TorchModuleWrapper...\n",
      "2024-03-17 15:24:19,524 INFO {/home/dabin/anaconda3/envs/nuplan/lib/python3.9/site-packages/timm/models/_builder.py:186}  Loading pretrained weights from Hugging Face hub (timm/resnet50.a1_in1k)\n",
      "2024-03-17 15:24:19,524 INFO {/home/dabin/anaconda3/envs/nuplan/lib/python3.9/site-packages/timm/models/_builder.py:186}  Loading pretrained weights from Hugging Face hub (timm/resnet50.a1_in1k)\n",
      "2024-03-17 15:24:19,733 INFO {/home/dabin/anaconda3/envs/nuplan/lib/python3.9/site-packages/timm/models/_hub.py:180}  [timm/resnet50.a1_in1k] Safe alternative available for 'pytorch_model.bin' (as 'model.safetensors'). Loading weights using safetensors.\n",
      "2024-03-17 15:24:19,733 INFO {/home/dabin/anaconda3/envs/nuplan/lib/python3.9/site-packages/timm/models/_hub.py:180}  [timm/resnet50.a1_in1k] Safe alternative available for 'pytorch_model.bin' (as 'model.safetensors'). Loading weights using safetensors.\n",
      "2024-03-17 15:24:19,750 INFO {/home/dabin/anaconda3/envs/nuplan/lib/python3.9/site-packages/timm/models/_builder.py:210}  Converted input conv conv1 pretrained weights from 3 to 4 channel(s)\n",
      "2024-03-17 15:24:19,750 INFO {/home/dabin/anaconda3/envs/nuplan/lib/python3.9/site-packages/timm/models/_builder.py:210}  Converted input conv conv1 pretrained weights from 3 to 4 channel(s)\n",
      "2024-03-17 15:24:19,760 INFO {/home/dabin/nuplan-devkit/nuplan/planning/script/builders/model_builder.py:21}  Building TorchModuleWrapper...DONE!\n",
      "2024-03-17 15:24:19,760 INFO {/home/dabin/nuplan-devkit/nuplan/planning/script/builders/model_builder.py:21}  Building TorchModuleWrapper...DONE!\n",
      "2024-03-17 15:24:20,121 INFO {/home/dabin/nuplan-devkit/nuplan/planning/script/builders/model_builder.py:18}  Building TorchModuleWrapper...\n",
      "2024-03-17 15:24:20,121 INFO {/home/dabin/nuplan-devkit/nuplan/planning/script/builders/model_builder.py:18}  Building TorchModuleWrapper...\n",
      "2024-03-17 15:24:20,241 INFO {/home/dabin/anaconda3/envs/nuplan/lib/python3.9/site-packages/timm/models/_builder.py:186}  Loading pretrained weights from Hugging Face hub (timm/resnet50.a1_in1k)\n",
      "2024-03-17 15:24:20,241 INFO {/home/dabin/anaconda3/envs/nuplan/lib/python3.9/site-packages/timm/models/_builder.py:186}  Loading pretrained weights from Hugging Face hub (timm/resnet50.a1_in1k)\n",
      "2024-03-17 15:24:20,471 INFO {/home/dabin/anaconda3/envs/nuplan/lib/python3.9/site-packages/timm/models/_hub.py:180}  [timm/resnet50.a1_in1k] Safe alternative available for 'pytorch_model.bin' (as 'model.safetensors'). Loading weights using safetensors.\n",
      "2024-03-17 15:24:20,471 INFO {/home/dabin/anaconda3/envs/nuplan/lib/python3.9/site-packages/timm/models/_hub.py:180}  [timm/resnet50.a1_in1k] Safe alternative available for 'pytorch_model.bin' (as 'model.safetensors'). Loading weights using safetensors.\n",
      "2024-03-17 15:24:20,489 INFO {/home/dabin/anaconda3/envs/nuplan/lib/python3.9/site-packages/timm/models/_builder.py:210}  Converted input conv conv1 pretrained weights from 3 to 4 channel(s)\n",
      "2024-03-17 15:24:20,489 INFO {/home/dabin/anaconda3/envs/nuplan/lib/python3.9/site-packages/timm/models/_builder.py:210}  Converted input conv conv1 pretrained weights from 3 to 4 channel(s)\n",
      "2024-03-17 15:24:20,499 INFO {/home/dabin/nuplan-devkit/nuplan/planning/script/builders/model_builder.py:21}  Building TorchModuleWrapper...DONE!\n",
      "2024-03-17 15:24:20,499 INFO {/home/dabin/nuplan-devkit/nuplan/planning/script/builders/model_builder.py:21}  Building TorchModuleWrapper...DONE!\n",
      "2024-03-17 15:24:20,627 INFO {/home/dabin/nuplan-devkit/nuplan/planning/script/builders/simulation_builder.py:133}  Building simulations...DONE!\n",
      "2024-03-17 15:24:20,627 INFO {/home/dabin/nuplan-devkit/nuplan/planning/script/builders/simulation_builder.py:133}  Building simulations...DONE!\n",
      "2024-03-17 15:24:20,627 INFO {/home/dabin/nuplan-devkit/nuplan/planning/script/run_simulation.py:78}  Running simulation...\n",
      "2024-03-17 15:24:20,627 INFO {/home/dabin/nuplan-devkit/nuplan/planning/script/run_simulation.py:78}  Running simulation...\n",
      "2024-03-17 15:24:20,627 INFO {/home/dabin/nuplan-devkit/nuplan/planning/script/utils.py:138}  Executing runners...\n",
      "2024-03-17 15:24:20,627 INFO {/home/dabin/nuplan-devkit/nuplan/planning/script/utils.py:138}  Executing runners...\n",
      "2024-03-17 15:24:20,627 INFO {/home/dabin/nuplan-devkit/nuplan/planning/simulation/runner/executor.py:82}  Starting 31 simulations using RayDistributed!\n",
      "2024-03-17 15:24:20,627 INFO {/home/dabin/nuplan-devkit/nuplan/planning/simulation/runner/executor.py:82}  Starting 31 simulations using RayDistributed!\n"
     ]
    },
    {
     "name": "stderr",
     "output_type": "stream",
     "text": [
      "Ray objects: 100%|██████████████████████████████████████████████████████| 31/31 [02:03<00:00,  3.98s/it]\n"
     ]
    },
    {
     "name": "stdout",
     "output_type": "stream",
     "text": [
      "2024-03-17 15:26:30,231 INFO {/home/dabin/nuplan-devkit/nuplan/planning/simulation/runner/executor.py:127}  Number of successful simulations: 31\n",
      "2024-03-17 15:26:30,231 INFO {/home/dabin/nuplan-devkit/nuplan/planning/simulation/runner/executor.py:127}  Number of successful simulations: 31\n",
      "2024-03-17 15:26:30,232 INFO {/home/dabin/nuplan-devkit/nuplan/planning/simulation/runner/executor.py:128}  Number of failed simulations: 0\n",
      "2024-03-17 15:26:30,232 INFO {/home/dabin/nuplan-devkit/nuplan/planning/simulation/runner/executor.py:128}  Number of failed simulations: 0\n",
      "2024-03-17 15:26:30,232 INFO {/home/dabin/nuplan-devkit/nuplan/planning/script/utils.py:147}  Finished executing runners!\n",
      "2024-03-17 15:26:30,232 INFO {/home/dabin/nuplan-devkit/nuplan/planning/script/utils.py:147}  Finished executing runners!\n",
      "2024-03-17 15:26:30,313 INFO {/home/dabin/nuplan-devkit/nuplan/planning/script/utils.py:74}  Saved runner reports to /tmp/tutorial_nuplan_framework/simulation_raster_experiment/open_loop_boxes/2024.03.17.15.23.55/runner_report.parquet\n",
      "2024-03-17 15:26:30,313 INFO {/home/dabin/nuplan-devkit/nuplan/planning/script/utils.py:74}  Saved runner reports to /tmp/tutorial_nuplan_framework/simulation_raster_experiment/open_loop_boxes/2024.03.17.15.23.55/runner_report.parquet\n",
      "2024-03-17 15:26:30,314 INFO {/home/dabin/nuplan-devkit/nuplan/planning/simulation/main_callback/time_callback.py:27}  Simulation duration: 00:02:35 [HH:MM:SS]\n",
      "2024-03-17 15:26:30,314 INFO {/home/dabin/nuplan-devkit/nuplan/planning/simulation/main_callback/time_callback.py:27}  Simulation duration: 00:02:35 [HH:MM:SS]\n",
      "2024-03-17 15:26:30,471 INFO {/home/dabin/nuplan-devkit/nuplan/planning/simulation/main_callback/metric_file_callback.py:79}  Metric files integration: 00:00:00 [HH:MM:SS]\n",
      "2024-03-17 15:26:30,471 INFO {/home/dabin/nuplan-devkit/nuplan/planning/simulation/main_callback/metric_file_callback.py:79}  Metric files integration: 00:00:00 [HH:MM:SS]\n",
      "2024-03-17 15:26:30,484 INFO {/home/dabin/nuplan-devkit/nuplan/planning/simulation/main_callback/metric_aggregator_callback.py:58}  Running metric aggregator: open_loop_boxes_weighted_average\n",
      "2024-03-17 15:26:30,484 INFO {/home/dabin/nuplan-devkit/nuplan/planning/simulation/main_callback/metric_aggregator_callback.py:58}  Running metric aggregator: open_loop_boxes_weighted_average\n",
      "2024-03-17 15:26:30,492 INFO {/home/dabin/nuplan-devkit/nuplan/planning/simulation/main_callback/metric_aggregator_callback.py:69}  Metric aggregator: 00:00:00 [HH:MM:SS]\n",
      "2024-03-17 15:26:30,492 INFO {/home/dabin/nuplan-devkit/nuplan/planning/simulation/main_callback/metric_aggregator_callback.py:69}  Metric aggregator: 00:00:00 [HH:MM:SS]\n"
     ]
    },
    {
     "name": "stderr",
     "output_type": "stream",
     "text": [
      "Rendering histograms: 100%|███████████████████████████████████████████████| 6/6 [00:00<00:00,  7.98it/s]\n"
     ]
    },
    {
     "name": "stdout",
     "output_type": "stream",
     "text": [
      "2024-03-17 15:26:32,085 INFO {/home/dabin/nuplan-devkit/nuplan/planning/simulation/main_callback/metric_summary_callback.py:344}  Metric summary: 00:00:01 [HH:MM:SS]\n",
      "2024-03-17 15:26:32,085 INFO {/home/dabin/nuplan-devkit/nuplan/planning/simulation/main_callback/metric_summary_callback.py:344}  Metric summary: 00:00:01 [HH:MM:SS]\n",
      "2024-03-17 15:26:32,085 INFO {/home/dabin/nuplan-devkit/nuplan/planning/script/run_simulation.py:80}  Finished running simulation!\n",
      "2024-03-17 15:26:32,085 INFO {/home/dabin/nuplan-devkit/nuplan/planning/script/run_simulation.py:80}  Finished running simulation!\n"
     ]
    },
    {
     "data": {
      "image/png": "[encoded data removed]",
      "text/plain": [
       "<Figure size 600x600 with 6 Axes>"
      ]
     },
     "metadata": {},
     "output_type": "display_data"
    },
    {
     "data": {
      "image/png": "[encoded data removed]",
      "text/plain": [
       "<Figure size 600x600 with 6 Axes>"
      ]
     },
     "metadata": {},
     "output_type": "display_data"
    },
    {
     "data": {
      "image/png": "[encoded data removed]",
      "text/plain": [
       "<Figure size 600x600 with 4 Axes>"
      ]
     },
     "metadata": {},
     "output_type": "display_data"
    },
    {
     "data": {
      "image/png": "[encoded data removed]",
      "text/plain": [
       "<Figure size 600x600 with 6 Axes>"
      ]
     },
     "metadata": {},
     "output_type": "display_data"
    },
    {
     "data": {
      "image/png": "[encoded data removed]",
      "text/plain": [
       "<Figure size 600x600 with 6 Axes>"
      ]
     },
     "metadata": {},
     "output_type": "display_data"
    }
   ],
   "source": [
    "# Location of path with all simulation configs\n",
    "CONFIG_PATH = '../nuplan/planning/script/config/simulation'\n",
    "CONFIG_NAME = 'default_simulation'\n",
    "\n",
    "# Get the checkpoint of the trained model\n",
    "last_experiment = sorted(os.listdir(LOG_DIR))[-1]\n",
    "train_experiment_dir = sorted(LOG_DIR.iterdir())[-1]\n",
    "checkpoint = sorted((train_experiment_dir / 'checkpoints').iterdir())[-1]\n",
    "\n",
    "MODEL_PATH = str(checkpoint).replace(\"=\", \"\\=\")\n",
    "\n",
    "# Name of the experiment\n",
    "EXPERIMENT = 'simulation_raster_experiment'\n",
    "\n",
    "# Initialize configuration management system\n",
    "hydra.core.global_hydra.GlobalHydra.instance().clear()  # reinitialize hydra if already initialized\n",
    "hydra.initialize(config_path=CONFIG_PATH)\n",
    "\n",
    "# Compose the configuration\n",
    "cfg = hydra.compose(config_name=CONFIG_NAME, overrides=[\n",
    "    f'experiment_name={EXPERIMENT}',\n",
    "    f'group={SAVE_DIR}',\n",
    "    'planner=ml_planner',\n",
    "    'model=raster_model',\n",
    "    'planner.ml_planner.model_config=${model}',  # hydra notation to select model config\n",
    "    f'planner.ml_planner.checkpoint_path={MODEL_PATH}',  # this path can be replaced by the checkpoint of the model trained in the previous section\n",
    "    f'+simulation={CHALLENGE}',\n",
    "    *DATASET_PARAMS,\n",
    "])\n",
    "\n",
    "# Run the simulation loop\n",
    "main_simulation(cfg)\n",
    "\n",
    "# ML_planner simulation folder for visualization in nuBoard (next section)\n",
    "ml_planner_simulation_folder = cfg.output_dir"
   ]
  },
  {
   "cell_type": "markdown",
   "id": "ae7a31f9",
   "metadata": {},
   "source": [
    "# Visualizing metrics and scenarios <a name=\"dashboard\"></a>"
   ]
  },
  {
   "cell_type": "markdown",
   "id": "fa24ae5b",
   "metadata": {},
   "source": [
    "## nuBoard summary\n",
    "\n",
    "Having trained and simulated planners across various scenarios and driving behaviors, it's time to evaluate them:\n",
    "* quantitatively, through common and scenario dependent metrics\n",
    "* qualitatively, through visualization of scenario progression\n",
    "\n",
    "### nuBoard tabs\n",
    "To achieve that, nuBoard has 3 core evaluation tabs:\n",
    "1. Overview - Scalar metrics summary of common and scenario metrics across the following categories:\n",
    "    * Ego dynamics\n",
    "    * Traffic violations\n",
    "    * Expert imitation\n",
    "    * Planning & navigation\n",
    "    * Scenario performance\n",
    "2. Histograms - Histograms over metric statistics for more a granular peek inside each metric focusing on:\n",
    "    * Metric statistics (e.g. min, max, p90)\n",
    "3. Scenarios - Low-level scenario visualizations:\n",
    "    * Time-series progression of a specific metric across a scenario\n",
    "    * Top-down visualization of the scenario across time for comparing predicted vs. expert trajectories\n",
    "\n",
    "In addition, there is a main configuration tab for selecting different simulation files for comparing planners/experiments.\n",
    "\n",
    "<br />\n",
    "\n",
    "**NOTE**: nuBoard is under heavy developement, overall functionality and aesthetics do not represent the final product!"
   ]
  },
  {
   "cell_type": "markdown",
   "id": "1d8edb17",
   "metadata": {},
   "source": [
    "## Prepare the nuBoard config"
   ]
  },
  {
   "cell_type": "code",
   "execution_count": 19,
   "id": "42434f46",
   "metadata": {},
   "outputs": [],
   "source": [
    "# Location of path with all nuBoard configs\n",
    "CONFIG_PATH = '../nuplan/planning/script/config/nuboard'\n",
    "CONFIG_NAME = 'default_nuboard'\n",
    "\n",
    "# Initialize configuration management system\n",
    "hydra.core.global_hydra.GlobalHydra.instance().clear()  # reinitialize hydra if already initialized\n",
    "hydra.initialize(config_path=CONFIG_PATH)\n",
    "\n",
    "# Compose the configuration\n",
    "cfg = hydra.compose(config_name=CONFIG_NAME, overrides=[\n",
    "    'scenario_builder=nuplan_mini',  # set the database (same as simulation) used to fetch data for visualization\n",
    "    f'simulation_path={[simple_simulation_folder, ml_planner_simulation_folder]}',  # nuboard file path(s), if left empty the user can open the file inside nuBoard\n",
    "])"
   ]
  },
  {
   "cell_type": "code",
   "execution_count": 22,
   "id": "5cf13426-67d1-457f-8e4e-b1b9e63b1e45",
   "metadata": {},
   "outputs": [
    {
     "data": {
      "text/plain": [
       "['scenario_builder=nuplan_mini',\n",
       " \"simulation_path=['/tmp/tutorial_nuplan_framework/simulation_simple_experiment/open_loop_boxes/2024.03.17.15.22.34', '/tmp/tutorial_nuplan_framework/simulation_raster_experiment/open_loop_boxes/2024.03.17.15.23.55']\"]"
      ]
     },
     "execution_count": 22,
     "metadata": {},
     "output_type": "execute_result"
    }
   ],
   "source": [
    "[\n",
    "    'scenario_builder=nuplan_mini',  # set the database (same as simulation) used to fetch data for visualization\n",
    "    f'simulation_path={[simple_simulation_folder, ml_planner_simulation_folder]}',  # nuboard file path(s), if left empty the user can open the file inside nuBoard\n",
    "]"
   ]
  },
  {
   "cell_type": "markdown",
   "id": "3420d0c5",
   "metadata": {},
   "source": [
    "## Launch nuBoard (open in new tab - recommended)"
   ]
  },
  {
   "cell_type": "code",
   "execution_count": null,
   "id": "f114e9bf",
   "metadata": {},
   "outputs": [
    {
     "name": "stderr",
     "output_type": "stream",
     "text": [
      "INFO:bokeh.server.server:Starting Bokeh server version 2.4.3 (running on Tornado 6.4)\n",
      "WARNING:bokeh.server.util:Host wildcard '*' will allow connections originating from multiple (or possibly all) hostnames or IPs. Use non-wildcard values to restrict access explicitly\n",
      "INFO:bokeh.server.tornado:User authentication hooks NOT provided (default user enabled)\n"
     ]
    },
    {
     "name": "stdout",
     "output_type": "stream",
     "text": [
      "2024-03-07 07:36:51,938 INFO {/home/dabin/nuplan-devkit/nuplan/planning/script/builders/scenario_building_builder.py:18}  Building AbstractScenarioBuilder...\n",
      "2024-03-07 07:36:51,946 INFO {/home/dabin/nuplan-devkit/nuplan/planning/script/builders/scenario_building_builder.py:21}  Building AbstractScenarioBuilder...DONE!\n",
      "2024-03-07 07:36:51,946 INFO {/home/dabin/nuplan-devkit/nuplan/planning/nuboard/nuboard.py:84}  Opening Bokeh application on http://localhost:5006/\n",
      "2024-03-07 07:36:51,946 INFO {/home/dabin/nuplan-devkit/nuplan/planning/nuboard/nuboard.py:85}  Async rendering is set to: True\n",
      "2024-03-07 07:36:52,437 INFO {/home/dabin/nuplan-devkit/nuplan/planning/nuboard/base/simulation_tile.py:172}  Minimum frame time=0.017 s\n",
      "2024-03-07 07:36:52,447 INFO {/home/dabin/nuplan-devkit/nuplan/planning/nuboard/tabs/scenario_tab.py:485}  Rending scenario plot takes 0.0005 seconds.\n",
      "2024-03-07 07:36:52,511 INFO {/home/dabin/anaconda3/envs/nuplan/lib/python3.9/site-packages/tornado/web.py:2348}  200 GET / (127.0.0.1) 164.23ms\n",
      "2024-03-07 07:36:52,538 INFO {/home/dabin/anaconda3/envs/nuplan/lib/python3.9/site-packages/tornado/web.py:2348}  200 GET /resource/scripts/utils.js (127.0.0.1) 3.00ms\n",
      "2024-03-07 07:36:52,541 INFO {/home/dabin/anaconda3/envs/nuplan/lib/python3.9/site-packages/tornado/web.py:2348}  200 GET /resource/motional_logo.png (127.0.0.1) 1.21ms\n"
     ]
    },
    {
     "name": "stderr",
     "output_type": "stream",
     "text": [
      "BokehUserWarning: ColumnDataSource's columns must be of the same length. Current lengths: ('SimplePlanner', 5), ('experiment', 10), ('scenario_type', 5)\n",
      "INFO:tornado.access:200 GET / (127.0.0.1) 164.23ms\n",
      "INFO:tornado.access:200 GET /resource/scripts/utils.js (127.0.0.1) 3.00ms\n",
      "INFO:tornado.access:200 GET /resource/motional_logo.png (127.0.0.1) 1.21ms\n",
      "INFO:tornado.access:101 GET /ws (127.0.0.1) 0.62ms\n",
      "INFO:bokeh.server.views.ws:WebSocket connection opened\n",
      "INFO:bokeh.server.views.ws:ServerConnection created\n"
     ]
    },
    {
     "name": "stdout",
     "output_type": "stream",
     "text": [
      "2024-03-07 07:36:52,681 INFO {/home/dabin/anaconda3/envs/nuplan/lib/python3.9/site-packages/tornado/web.py:2348}  101 GET /ws (127.0.0.1) 0.62ms\n"
     ]
    },
    {
     "name": "stderr",
     "output_type": "stream",
     "text": [
      "Rendering a scenario: 100%|█████████████████████████████████████████████████████████████| 1/1 [00:00<00:00, 13.75it/s]\n"
     ]
    },
    {
     "name": "stdout",
     "output_type": "stream",
     "text": [
      "2024-03-07 07:37:16,815 INFO {/home/dabin/nuplan-devkit/nuplan/planning/nuboard/tabs/scenario_tab.py:485}  Rending scenario plot takes 2.1492 seconds.\n"
     ]
    },
    {
     "name": "stderr",
     "output_type": "stream",
     "text": [
      "Rendering a scenario: 100%|████████████████████████████████████████████████████████████| 1/1 [00:00<00:00, 172.45it/s]\n"
     ]
    },
    {
     "name": "stdout",
     "output_type": "stream",
     "text": [
      "2024-03-07 07:38:22,599 INFO {/home/dabin/nuplan-devkit/nuplan/planning/nuboard/tabs/scenario_tab.py:485}  Rending scenario plot takes 3.0970 seconds.\n"
     ]
    }
   ],
   "source": [
    "from nuplan.planning.script.run_nuboard import main as main_nuboard\n",
    "\n",
    "# Run nuBoard\n",
    "main_nuboard(cfg)"
   ]
  },
  {
   "cell_type": "markdown",
   "id": "177cd444",
   "metadata": {},
   "source": [
    "## Launch nuBoard (embedded within the notebook - alternative)"
   ]
  },
  {
   "cell_type": "code",
   "execution_count": null,
   "id": "cd4b6454",
   "metadata": {},
   "outputs": [],
   "source": [
    "from bokeh.io import show, output_notebook\n",
    "from nuplan.planning.script.run_nuboard import initialize_nuboard\n",
    "\n",
    "# Make sure that the notebook working directory is \"/notebooks\" and that Jupyter was launched at the root of the repo\n",
    "cfg.resource_prefix = '/notebooks/nuplan/planning/metrics/board/'  # pass CSS resources to the notebook\n",
    "\n",
    "# Run the nuBoard\n",
    "output_notebook()\n",
    "nuboard = initialize_nuboard(cfg)\n",
    "show(nuboard.main_page)"
   ]
  },
  {
   "cell_type": "markdown",
   "id": "4624979a",
   "metadata": {},
   "source": [
    "## Launch nuBoard (command line - alternative)"
   ]
  },
  {
   "cell_type": "markdown",
   "id": "557156ac",
   "metadata": {},
   "source": [
    "nuBoard can be launched alternatively with:\n",
    "```\n",
    "$ python nuplan/planning/script/run_nuboard.py\n",
    "```\n",
    "\n",
    "Simulation files (.nuboard) can be selected under the configuration tab."
   ]
  }
 ],
 "metadata": {
  "interpreter": {
   "hash": "5aea00fa936a67f14323fa2d54163d7dc1f328c617e433b03a680f73ee2dd426"
  },
  "kernelspec": {
   "display_name": "Python 3 (ipykernel)",
   "language": "python",
   "name": "python3"
  },
  "language_info": {
   "codemirror_mode": {
    "name": "ipython",
    "version": 3
   },
   "file_extension": ".py",
   "mimetype": "text/x-python",
   "name": "python",
   "nbconvert_exporter": "python",
   "pygments_lexer": "ipython3",
   "version": "3.9.18"
  }
 },
 "nbformat": 4,
 "nbformat_minor": 5
}
